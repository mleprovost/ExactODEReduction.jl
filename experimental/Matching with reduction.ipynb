{
 "cells": [
  {
   "cell_type": "code",
   "execution_count": 12,
   "metadata": {},
   "outputs": [
    {
     "name": "stderr",
     "output_type": "stream",
     "text": [
      "WARNING: replacing module ExactODEReduction.\n"
     ]
    },
    {
     "data": {
      "text/plain": [
       "Main.ExactODEReduction"
      ]
     },
     "metadata": {},
     "output_type": "display_data"
    }
   ],
   "source": [
    "using DifferentialEquations\n",
    "using Plots\n",
    "using Nemo\n",
    "# using ExactODEReduction\n",
    "include(\"../src/ExactODEReduction.jl\")"
   ]
  },
  {
   "cell_type": "code",
   "execution_count": 13,
   "metadata": {},
   "outputs": [
    {
     "name": "stdout",
     "output_type": "stream",
     "text": [
      "ics = Dict{Any, Any}(\"XIAP\" => 7.83371, \"IKK\" => 0.64, \"TNF_TNFR_TRADD\" => 0.0, \"pCasp8\" => 3.2, \"FLIP_mRNA\" => 0.000139056, \"TNFR_E\" => 0.005, \"TNFRC2_pCasp8_pCasp8\" => 0.0, \"XIAP_mRNA\" => 0.000219646, \"TNF_E\" => 0.2688, \"BAR_Casp8\" => 0.0, \"TNFRC2_FLIP_pCasp8\" => 0.0, \"TNFR\" => 0.00028, \"TRAF2\" => 0.33056, \"TNFRC2\" => 0.0, \"TNFRC1\" => 0.0, \"TRADD\" => 0.29344, \"TNF_TNFR_E\" => 0.0, \"BAR\" => 0.28789, \"SINK\" => 0.0, \"NFkB_N\" => 0.000691431, \"Casp3\" => 0.0, \"IkBa_N\" => 0.0013839, \"IkBa_NFkB_N\" => 9.00189e-5, \"XIAP_Casp3\" => 0.0, \"IkBa_mRNA\" => 5.31517e-5, \"FLIP\" => 0.0320472, \"PARP\" => 1.66667, \"TNFRC2_pCasp8\" => 0.0, \"pCasp3\" => 0.8, \"RIP\" => 0.20256, \"TNFRC2_FLIP\" => 0.0, \"IKKa\" => 0.0, \"IkBa\" => 0.00101518, \"TNFRCint2\" => 0.0, \"A20_mRNA\" => 5.56657e-5, \"source\" => 1.0, \"TNFRCint1\" => 0.0, \"Casp8\" => 0.0, \"end init\" => 0.0, \"FADD\" => 0.30944, \"A20\" => 0.104434, \"IkBa_NFkB\" => 0.0151032, \"TNFRC2_FLIP_pCasp8_RIP_TRAF2\" => 0.0, \"TNFRC2_FLIP_FLIP\" => 0.0, \"TNFRCint3\" => 0.0, \"PIkBa\" => 0.0, \"Casp6\" => 0.0, \"I\" => 1.0, \"begin reactions\" => 0.0, \"NFkB\" => 0.000115365, \"cPARP\" => 0.0, \"pCasp6\" => 0.064)\n"
     ]
    },
    {
     "name": "stderr",
     "output_type": "stream",
     "text": [
      "\u001b[36m\u001b[1m┌ \u001b[22m\u001b[39m\u001b[36m\u001b[1mInfo: \u001b[22m\u001b[39mLoaded system\n",
      "\u001b[36m\u001b[1m│ \u001b[22m\u001b[39m  ode =\n",
      "\u001b[36m\u001b[1m│ \u001b[22m\u001b[39m   A20'(t) = 30303//2000000*A20_mRNA(t) + 3//312500*I(t)\n",
      "\u001b[36m\u001b[1m│ \u001b[22m\u001b[39m   A20_mRNA'(t) = 94697//2500000000*NFkB_N(t)\n",
      "\u001b[36m\u001b[1m│ \u001b[22m\u001b[39m   BAR'(t) = 1//1000*BAR_Casp8(t) + 166603//100000000000*I(t)\n",
      "\u001b[36m\u001b[1m│ \u001b[22m\u001b[39m   BAR_Casp8'(t) = 520833//1000000*BAR(t)*Casp8(t)\n",
      "\u001b[36m\u001b[1m│ \u001b[22m\u001b[39m   Casp3'(t) = 1//64*Casp8(t)*pCasp3(t) + 1//1000*XIAP_Casp3(t)\n",
      "\u001b[36m\u001b[1m│ \u001b[22m\u001b[39m   Casp6'(t) = 3//320*Casp3(t)*pCasp6(t)\n",
      "\u001b[36m\u001b[1m│ \u001b[22m\u001b[39m   Casp8'(t) = 1//1000*BAR_Casp8(t) + 1//640*Casp6(t)*pCasp8(t) + 3//10*TNFRC2_FLIP_pCasp8(t) + 9//20*TNFRC2_pCasp8_pCasp8(t)\n",
      "\u001b[36m\u001b[1m│ \u001b[22m\u001b[39m   FADD'(t) = 967//31250000*I(t)\n",
      "\u001b[36m\u001b[1m│ \u001b[22m\u001b[39m   FLIP'(t) = 687273//100000000*FLIP_mRNA(t) + 112451//50000000000*I(t)\n",
      "\u001b[36m\u001b[1m│ \u001b[22m\u001b[39m   FLIP_mRNA'(t) = 333333//10000000000*NFkB_N(t)\n",
      "\u001b[36m\u001b[1m│ \u001b[22m\u001b[39m   I'(t) = 0\n",
      "\u001b[36m\u001b[1m│ \u001b[22m\u001b[39m   IKK'(t) = 1//15625*I(t) + 1//10*IKKa(t)\n",
      "\u001b[36m\u001b[1m│ \u001b[22m\u001b[39m   IKKa'(t) = 375//4*IKK(t)*TNFRC1(t) + 1//32*IKK(t)*TNFRC2_FLIP_pCasp8_RIP_TRAF2(t)\n",
      "\u001b[36m\u001b[1m│ \u001b[22m\u001b[39m   IkBa'(t) = 32197//12500000*IkBa_N(t) + 606061//10000000*IkBa_mRNA(t)\n",
      "\u001b[36m\u001b[1m│ \u001b[22m\u001b[39m   IkBa_N'(t) = 1//200*IkBa(t)\n",
      "\u001b[36m\u001b[1m│ \u001b[22m\u001b[39m   IkBa_NFkB'(t) = 5//4*IkBa(t)*NFkB(t) + 30303//2000000*IkBa_NFkB_N(t)\n",
      "\u001b[36m\u001b[1m│ \u001b[22m\u001b[39m   IkBa_NFkB_N'(t) = 3587//2500*IkBa_N(t)*NFkB_N(t)\n",
      "\u001b[36m\u001b[1m│ \u001b[22m\u001b[39m   IkBa_mRNA'(t) = 30303//1000000000*NFkB_N(t)\n",
      "\u001b[36m\u001b[1m│ \u001b[22m\u001b[39m   NFkB'(t) = 1//625000*I(t) + 104167//1000000*IKKa(t)*IkBa_NFkB(t)\n",
      "\u001b[36m\u001b[1m│ \u001b[22m\u001b[39m   NFkB_N'(t) = 1//80*NFkB(t)\n",
      "\u001b[36m\u001b[1m│ \u001b[22m\u001b[39m   PARP'(t) = -482253//50000000000*I(t)\n",
      "\u001b[36m\u001b[1m│ \u001b[22m\u001b[39m   PIkBa'(t) = 104167//1000000*IKKa(t)*IkBa_NFkB(t)\n",
      "\u001b[36m\u001b[1m│ \u001b[22m\u001b[39m   RIP'(t) = 633//31250000*I(t) + 227//200000*TNFRCint1(t)\n",
      "\u001b[36m\u001b[1m│ \u001b[22m\u001b[39m   SINK'(t) = -235249//500000000*A20_mRNA(t) - 36169//625000000*BAR_Casp8(t) - 36169//625000000*Casp3(t) - 36169//625000000*Casp6(t) - 36169//625000000*Casp8(t) - 10359//62500000*FLIP_mRNA(t) + 482253//50000000000*I(t) - 1//10000*IKKa(t) - 77011//50000000*IkBa(t) - 1//10000*IkBa_N(t) - 1//10000*IkBa_NFkB(t) - 1//10000*IkBa_NFkB_N(t) - 394201//1000000000*IkBa_mRNA(t) - 1//10000*NFkB_N(t) - 36169//6250000000*PARP(t) - 115517//10000000*PIkBa(t) - 7//125000*TNFRC1(t) - 7//125000*TNFRC2(t) - 7//125000*TNFRC2_FLIP(t) - 7//125000*TNFRC2_FLIP_FLIP(t) - 7//125000*TNFRC2_FLIP_pCasp8(t) - 7//125000*TNFRC2_FLIP_pCasp8_RIP_TRAF2(t) - 7//125000*TNFRC2_pCasp8(t) - 7//125000*TNFRC2_pCasp8_pCasp8(t) - 7//125000*TNFR_E(t) - 7//125000*TNF_TNFR_E(t) - 147//6250*TNF_TNFR_TRADD(t) - 36169//625000000*XIAP_Casp3(t) - 104931//1000000000*XIAP_mRNA(t) - 36169//6250000000*cPARP(t)\n",
      "\u001b[36m\u001b[1m│ \u001b[22m\u001b[39m   TNFR'(t) = 7//25000000*source(t)\n",
      "\u001b[36m\u001b[1m│ \u001b[22m\u001b[39m   TNFRC1'(t) = 488281//5000000*RIP(t)*TNF_TNFR_TRADD(t)*TRAF2(t)\n",
      "\u001b[36m\u001b[1m│ \u001b[22m\u001b[39m   TNFRC2'(t) = 3//10*TNFRC2_FLIP_pCasp8(t) + 9//20*TNFRC2_pCasp8_pCasp8(t) + 227//2000*TNFRCint3(t)\n",
      "\u001b[36m\u001b[1m│ \u001b[22m\u001b[39m   TNFRC2_FLIP'(t) = 5//16*FLIP(t)*TNFRC2(t)\n",
      "\u001b[36m\u001b[1m│ \u001b[22m\u001b[39m   TNFRC2_FLIP_FLIP'(t) = 5//16*FLIP(t)*TNFRC2_FLIP(t)\n",
      "\u001b[36m\u001b[1m│ \u001b[22m\u001b[39m   TNFRC2_FLIP_pCasp8'(t) = 5//16*FLIP(t)*TNFRC2_pCasp8(t) + 5//16*TNFRC2_FLIP(t)*pCasp8(t)\n",
      "\u001b[36m\u001b[1m│ \u001b[22m\u001b[39m   TNFRC2_FLIP_pCasp8_RIP_TRAF2'(t) = 488281//50000000*RIP(t)*TNFRC2_FLIP_pCasp8(t)*TRAF2(t)\n",
      "\u001b[36m\u001b[1m│ \u001b[22m\u001b[39m   TNFRC2_pCasp8'(t) = 1//32*TNFRC2(t)*pCasp8(t)\n",
      "\u001b[36m\u001b[1m│ \u001b[22m\u001b[39m   TNFRC2_pCasp8_pCasp8'(t) = 1//32*TNFRC2_pCasp8(t)*pCasp8(t)\n",
      "\u001b[36m\u001b[1m│ \u001b[22m\u001b[39m   TNFRCint1'(t) = 227//200000*TNFRC1(t)\n",
      "\u001b[36m\u001b[1m│ \u001b[22m\u001b[39m   TNFRCint2'(t) = 227//200000*TNFRCint1(t)\n",
      "\u001b[36m\u001b[1m│ \u001b[22m\u001b[39m   TNFRCint3'(t) = 59267//2500000*FADD(t)*TNFRCint2(t)\n",
      "\u001b[36m\u001b[1m│ \u001b[22m\u001b[39m   TNFR_E'(t) = 1//1000*TNFR(t) + 660377//10000000000*TNF_TNFR_E(t)\n",
      "\u001b[36m\u001b[1m│ \u001b[22m\u001b[39m   TNF_E'(t) = 660377//10000000000*TNF_TNFR_E(t)\n",
      "\u001b[36m\u001b[1m│ \u001b[22m\u001b[39m   TNF_TNFR_E'(t) = 953471//100000000*TNFR_E(t)*TNF_E(t)\n",
      "\u001b[36m\u001b[1m│ \u001b[22m\u001b[39m   TNF_TNFR_TRADD'(t) = 1//160*A20(t)*TNFRC1(t) + 427827//100000000*TNF_TNFR_E(t)*TRADD(t)\n",
      "\u001b[36m\u001b[1m│ \u001b[22m\u001b[39m   TRADD'(t) = 917//31250000*I(t)\n",
      "\u001b[36m\u001b[1m│ \u001b[22m\u001b[39m   TRAF2'(t) = 1//160*A20(t)*TNFRC1(t) + 1033//31250000*I(t) + 227//200000*TNFRCint1(t)\n",
      "\u001b[36m\u001b[1m│ \u001b[22m\u001b[39m   XIAP'(t) = 24133//31250000*I(t) + 21//20000*XIAP_Casp3(t) + 506061//10000000*XIAP_mRNA(t)\n",
      "\u001b[36m\u001b[1m│ \u001b[22m\u001b[39m   XIAP_Casp3'(t) = 5//8*Casp3(t)*XIAP(t)\n",
      "\u001b[36m\u001b[1m│ \u001b[22m\u001b[39m   XIAP_mRNA'(t) = 333333//10000000000*NFkB_N(t)\n",
      "\u001b[36m\u001b[1m│ \u001b[22m\u001b[39m   cPARP'(t) = 3//16*Casp3(t)*PARP(t)\n",
      "\u001b[36m\u001b[1m│ \u001b[22m\u001b[39m   pCasp3'(t) = 493827//10000000000*I(t)\n",
      "\u001b[36m\u001b[1m│ \u001b[22m\u001b[39m   pCasp6'(t) = 197531//50000000000*I(t)\n",
      "\u001b[36m\u001b[1m│ \u001b[22m\u001b[39m   pCasp8'(t) = 197531//1000000000*I(t)\n",
      "\u001b[36m\u001b[1m│ \u001b[22m\u001b[39m   source'(t) = 0\n",
      "\u001b[36m\u001b[1m└ \u001b[22m\u001b[39m   \n"
     ]
    },
    {
     "data": {
      "text/plain": [
       "Dict{Any, Any} with 52 entries:\n",
       "  \"XIAP\"                 => 7.83371\n",
       "  \"IKK\"                  => 0.64\n",
       "  \"TNF_TNFR_TRADD\"       => 0.0\n",
       "  \"pCasp8\"               => 3.2\n",
       "  \"FLIP_mRNA\"            => 0.000139056\n",
       "  \"TNFR_E\"               => 0.005\n",
       "  \"TNFRC2_pCasp8_pCasp8\" => 0.0\n",
       "  \"XIAP_mRNA\"            => 0.000219646\n",
       "  \"TNF_E\"                => 0.2688\n",
       "  \"BAR_Casp8\"            => 0.0\n",
       "  \"TNFRC2_FLIP_pCasp8\"   => 0.0\n",
       "  \"TNFR\"                 => 0.00028\n",
       "  \"TRAF2\"                => 0.33056\n",
       "  \"TNFRC2\"               => 0.0\n",
       "  \"TNFRC1\"               => 0.0\n",
       "  \"TRADD\"                => 0.29344\n",
       "  \"TNF_TNFR_E\"           => 0.0\n",
       "  \"BAR\"                  => 0.28789\n",
       "  \"SINK\"                 => 0.0\n",
       "  ⋮                      => ⋮"
      ]
     },
     "metadata": {},
     "output_type": "display_data"
    }
   ],
   "source": [
    "# Load the ODE system from the file\n",
    "# fname = \"/Users/pogudingleb/.julia/dev/ExactODEReduction/examples/BIOMD0000000407.ode\"\n",
    "fname = \"/home/sumiya11/exactreduction/finally/Exact-reduction-of-ODE-systems/examples/BIOMD0000000407.ode\"\n",
    "(ode, ics) = ExactODEReduction.load_ODE(fname, true)\n",
    "@info \"Loaded system\" ode\n",
    "@show ics"
   ]
  },
  {
   "cell_type": "code",
   "execution_count": 15,
   "metadata": {},
   "outputs": [
    {
     "name": "stdout",
     "output_type": "stream",
     "text": [
      "......................................................"
     ]
    },
    {
     "name": "stdout",
     "output_type": "stream",
     "text": [
      "................................................"
     ]
    },
    {
     "name": "stdout",
     "output_type": "stream",
     "text": [
      ".........................................."
     ]
    },
    {
     "name": "stdout",
     "output_type": "stream",
     "text": [
      ".............................................."
     ]
    },
    {
     "name": "stdout",
     "output_type": "stream",
     "text": [
      "......................................"
     ]
    },
    {
     "name": "stdout",
     "output_type": "stream",
     "text": [
      "................................................"
     ]
    },
    {
     "name": "stdout",
     "output_type": "stream",
     "text": [
      "............"
     ]
    },
    {
     "name": "stdout",
     "output_type": "stream",
     "text": [
      "............................................................................"
     ]
    },
    {
     "name": "stdout",
     "output_type": "stream",
     "text": [
      ".................................................................."
     ]
    },
    {
     "name": "stdout",
     "output_type": "stream",
     "text": [
      ".........."
     ]
    },
    {
     "name": "stdout",
     "output_type": "stream",
     "text": [
      "...................................................................."
     ]
    },
    {
     "name": "stdout",
     "output_type": "stream",
     "text": [
      "................................................................"
     ]
    },
    {
     "name": "stdout",
     "output_type": "stream",
     "text": [
      ".........................."
     ]
    },
    {
     "name": "stdout",
     "output_type": "stream",
     "text": [
      "................................"
     ]
    },
    {
     "name": "stdout",
     "output_type": "stream",
     "text": [
      "........................................................"
     ]
    },
    {
     "name": "stdout",
     "output_type": "stream",
     "text": [
      "................"
     ]
    }
   ],
   "source": [
    "# Call find_reductions providing the loaded system \n",
    "# (might take some time)\n",
    "reductions = ExactODEReduction.find_reductions(ode, loglevel=Logging.Warn)\n",
    "@info \"Found reductions\" reductions\n",
    "\n",
    "# Reduction referred to in the paper\n",
    "reduction = reductions[8]\n",
    "@info \"New system\" reduction[:new_system]\n",
    "@info \"New variables\" reduction[:new_vars]\n",
    "#=\n",
    "    reduction[:new_vars] = [\n",
    "    y1=    k6/k1*A20 - k5/k3*FLIP,\n",
    "    y2=    k6*A20_mRNA - k5*IkBa_mRNA,\n",
    "    ...\n",
    "    ]\n",
    "    \n",
    "    reduction[:new_system] = [\n",
    "    y1'=   y2 + k2k6/k1 - k4k5/k3,\n",
    "    y2'=   0,\n",
    "    ...\n",
    "    ]\n",
    "=#\n"
   ]
  },
  {
   "attachments": {},
   "cell_type": "markdown",
   "id": "c6b16d30",
   "metadata": {},
   "source": [
    "Now let's solve the original system numerically and then compare the solutions with the solutions of the reduced system."
   ]
  },
  {
   "cell_type": "code",
   "execution_count": 23,
   "id": "8ec91d9e",
   "metadata": {},
   "outputs": [
    {
     "data": {
      "text/plain": [
       "evaluate_float (generic function with 1 method)"
      ]
     },
     "metadata": {},
     "output_type": "display_data"
    }
   ],
   "source": [
    "Float64(x::Nemo.fmpq) = Float64(numerator(x)) / Float64(denominator(x))\n",
    "\n",
    "function evaluate_float(poly, point)\n",
    "    result = 0.\n",
    "    for (c, m) in zip(Nemo.coefficients(poly), Nemo.exponent_vectors(poly))\n",
    "        result += Float64(c) * sum(point .^ m)    \n",
    "    end\n",
    "    return result\n",
    "end\n",
    "\n",
    "# # the system to be solved\n",
    "# function f!(du, u, p, t)\n",
    "#     for i in eachindex(du)\n",
    "#         du[i] = evaluate_float(p[i], u)\n",
    "#     end\n",
    "#     nothing\n",
    "# end"
   ]
  },
  {
   "cell_type": "code",
   "execution_count": 20,
   "metadata": {},
   "outputs": [
    {
     "data": {
      "text/plain": [
       "retcode: Success\n",
       "Interpolation: specialized 4th order \"free\" interpolation, specialized 2nd order \"free\" stiffness-aware interpolation\n",
       "t: 12-element Vector{Float64}:\n",
       "  0.0\n",
       "  0.016589933474970148\n",
       "  0.18248926822467162\n",
       "  0.7740161753657451\n",
       "  1.846878468489367\n",
       "  3.3913521068506682\n",
       "  5.400801986725735\n",
       "  7.959403904293914\n",
       " 11.085406861069433\n",
       " 14.822658657341814\n",
       " 19.210317656291892\n",
       " 20.0\n",
       "u: 12-element Vector{Vector{Float64}}:\n",
       " [0.104434, 5.56657e-5, 0.28789, 0.0, 0.0, 0.0, 0.0, 0.30944, 0.0320472, 0.000139056  …  0.29344, 0.33056, 7.83371, 0.0, 0.000219646, 0.0, 0.8, 0.064, 3.2, 1.0]\n",
       " [0.104434524323653, 5.5975131986389746e-5, 0.2878920972967355, 1.0955610498400384e-6, 4.9227585028804155e-6, 7.939366741389282e-20, 4.3320217642603194e-6, 0.3094398975930216, 0.03204722429614686, 0.00013906972658481675  …  0.29344433202176423, 0.33056035097397823, 7.83371664576397, 1.2649305849300735e-14, 0.00021964601105673167, 2.5519139231337063e-15, 0.8000000000000005, 0.06400032854969692, 3.199984275858521, 1.0000001338524485]\n",
       " [0.104439767560183, 9.310883763168553e-5, 0.28791307026409063, 1.205117154824444e-5, 5.415057322566369e-5, 1.0567372382390031e-16, 4.765244153729834e-5, 0.3094388735232375, 0.03204746725765735, 0.00014071698269131215  …  0.2934876524415373, 0.3305638607137603, 7.833783103680781, 1.530581464530462e-12, 0.00021964733786453377, 3.7362889255918483e-11, 0.8000000000000552, 0.0640036140466662, 3.1998267623160177, 1.0000014781881457]\n",
       " [0.10445846272549325, 0.0007293909937292167, 0.2879878510010471, 5.1114247984321865e-5, 0.00022967955272023508, 8.063560262319032e-15, 0.00020211773959812385, 0.3094352221232305, 0.03204833356908621, 0.00016894316576775262  …  0.29364211773959814, 0.3305763749623635, 7.834020068623405, 2.753691571260691e-11, 0.0002196700678643389, 1.2092177776708841e-8, 0.8000000000010935, 0.06401532874017953, 3.199261028101036, 1.000006692088775]\n",
       " [0.10449237046102133, 0.0038936716740544768, 0.2881234820804858, 0.00012196360624515247, 0.0005480529611670329, 1.0956544072053815e-13, 0.00048228596920887315, 0.3094285995176696, 0.03204990521523751, 0.0003094318513109  …  0.2939222859692089, 0.3305990722653789, 7.834449872268912, 1.5682792463129476e-10, 0.00021978302951417822, 3.919963294552505e-7, 0.8000000000090635, 0.06403657587669051, 3.1982177545046295, 1.0000209818560652]\n",
       " [0.10454118343915964, 0.013020724363565257, 0.2883187341907317, 0.00022395709308117376, 0.0010064083780613534, 6.787212795945263e-13, 0.0008856382036503932, 0.3094190657314869, 0.0320521717127277, 0.0007169960308707033  …  0.29432563820365043, 0.330631746902557, 7.835068647056478, 5.292273123668211e-10, 0.00022010804390668975, 4.457137858907972e-6, 0.8000000000582256, 0.0640671628797404, 3.196673131176214, 1.0000651305014854]\n",
       " [0.10460469195793269, 0.03312113993689258, 0.2885727685230335, 0.0003566565416517604, 0.001602809579173547, 2.7440756158921587e-12, 0.00141047056784971, 0.30940666172210557, 0.032055142350983876, 0.0016354115316128059  …  0.29485047056784974, 0.33067425850270804, 7.835873774694834, 1.344468532389936e-9, 0.00022081780134448846, 2.867117393701265e-5, 0.8000000003037077, 0.06410695834667343, 3.1945753758571147, 1.0001977290555961]\n",
       " [0.1046855563873181, 0.07297810582632024, 0.2888962265680761, 0.0005256207284435425, 0.002362286839744633, 8.800576069160431e-12, 0.002078809674943762, 0.3093908678859385, 0.03205901512479536, 0.0035821191428836636  …  0.2955188096749438, 0.3307283878755204, 7.836899040599065, 2.9295077732947e-9, 0.00022219106320206346, 0.00013526885906414688, 0.8000000013518074, 0.06415762930842527, 3.1917214644778893, 1.0005725281083977]\n",
       " [0.10478435348569477, 0.14674346043914874, 0.2892914153617112, 0.0007320547769745499, 0.003290322275213595, 2.3855004463891935e-11, 0.0028954797801508305, 0.3093715715748484, 0.032064055186396295, 0.007750202598896755  …  0.2963354797801509, 0.33079452109399105, 7.83815184473709, 5.713990894327012e-9, 0.00022458274577207867, 0.0005090526755290016, 0.8000000052827826, 0.06421953717114172, 3.1878432946588027, 1.001562227971211]\n",
       " [0.10490246905963384, 0.2832407846651153, 0.2897638781358357, 0.0009788542986936435, 0.0044000175642447134, 5.7337815089422235e-11, 0.003872010345476579, 0.3093485021234499, 0.03207101700025547, 0.01750642615284632  …  0.29731201034547666, 0.33087358579528486, 7.839649895028305, 1.0307291557881167e-8, 0.0002284725241060199, 0.0016276523757476958, 0.8000000193695703, 0.06429355030367538, 3.1823163287189784, 1.0041728674923267]\n",
       " [0.1050411407063842, 0.5496568764325377, 0.29031856528445754, 0.0012686052298765767, 0.005703107741141964, 1.2584332540821917e-10, 0.005018728187477095, 0.30932141781349504, 0.03208183009641814, 0.04266590479297482  …  0.29845872818747715, 0.3309664104077748, 7.84140913247707, 1.754765854254436e-8, 0.00023447140633797662, 0.004593256504228593, 0.8000000705276078, 0.06438044420451602, 3.1736622972030477, 1.0113929284628578]\n",
       " [0.10506609855999997, 0.6154799883758723, 0.2904183967999999, 0.0013207540416026093, 0.005937666429207281, 1.4224936518359443e-10, 0.0052251395605112895, 0.309316543232, 0.03208425557797547, 0.049800401513758294  …  0.29866513956051133, 0.33098311680129816, 7.841725824982307, 1.9072734977540064e-8, 0.00023571532032528987, 0.005396669326665831, 0.8000000874715819, 0.0643960832, 3.1717272628883073, 1.0135064706434005]"
      ]
     },
     "metadata": {},
     "output_type": "display_data"
    }
   ],
   "source": [
    "# species present in the selected reduction\n",
    "# interesting_species = [\n",
    "#     ExactODEReduction.A20,\n",
    "#     ExactODEReduction.A20_mRNA,\n",
    "#     ExactODEReduction.FLIP,\n",
    "#     ExactODEReduction.IkBa_mRNA,\n",
    "#     ExactODEReduction.NFkB,\n",
    "#     ExactODEReduction.Casp3\n",
    "# ]\n",
    "\n",
    "# Solve the original system\n",
    "\n",
    "xs = ExactODEReduction.vars(ode); n = length(xs)\n",
    "# @show n\n",
    "# eqs = [ode.x_equations[xs[i]] for i in 1:n]\n",
    "# var2idx = Dict((x => i for (i, x) in enumerate(xs)))\n",
    "\n",
    "problem = ExactODEReduction.ODEtoMTK(ode)\n",
    "\n",
    "# initial conds.\n",
    "# I assume initial conditions do not matter much\n",
    "# for checking the consistency (?)\n",
    "u0 = [ics[\"$x\"] for x in xs]\n",
    "\n",
    "start, stop = 0.0, 20.0\n",
    "tspan = (start, stop)\n",
    "\n",
    "prob = ODEProblem(problem, u0, tspan, dense=true)\n",
    "sol = DifferentialEquations.solve(prob)\n",
    "\n",
    "# sol - solution of the original system,\n",
    "# For example, the solution for A20\n",
    "# @show sol[var2idx[ExactODEReduction.A20], :]\n",
    "@show sol"
   ]
  },
  {
   "cell_type": "code",
   "execution_count": 21,
   "metadata": {},
   "outputs": [],
   "source": [
    "# plt = nothing\n",
    "# for (i, s) in enumerate(interesting_species)\n",
    "#     if i == 1\n",
    "#         plt = plot(sol[var2idx[s], :], label=s, xaxis=\"t\", title=\"From the 50-dim simulation\")\n",
    "#     else\n",
    "#         plt = plot!(sol[var2idx[s], :], label=s)\n",
    "#     end\n",
    "# end\n",
    "# plt"
   ]
  },
  {
   "cell_type": "code",
   "execution_count": 24,
   "metadata": {},
   "outputs": [
    {
     "name": "stdout",
     "output_type": "stream",
     "text": [
      "sol_r[1, :] = [-73.73117264455821, -73.73117264455821]\n",
      "sol_r[2, :] = [-12.25009162409355, -12.25009162409355]\n"
     ]
    },
    {
     "data": {
      "text/plain": [
       "2-element Vector{Float64}:\n",
       " -12.25009162409355\n",
       " -12.25009162409355"
      ]
     },
     "metadata": {},
     "output_type": "display_data"
    }
   ],
   "source": [
    "# xs_r = ExactODEReduction(reduction[:new_system])\n",
    "# n_r = length(xs_r)\n",
    "\n",
    "problem_r = ExactODEReduction.ODEtoMTK(reduction[:new_system])\n",
    "\n",
    "# new initial conditions, inferred as\n",
    "# u0_r[i] = evaluate new_var[i] at u0\n",
    "u0_r = [\n",
    "    evaluate_float(v, u0)\n",
    "    for v in reduction[:new_vars]\n",
    "]\n",
    "# p_r = eqs_r\n",
    "# @show eqs_r\n",
    "# @show u0_r\n",
    "\n",
    "prob_r = ODEProblem(problem_r, u0_r, tspan, dense=true)\n",
    "sol_r = DifferentialEquations.solve(prob_r)\n",
    "\n",
    "# y1'(t) = sol_r[1,:]\n",
    "# y2'(t) = sol_r[2,:]\n",
    "@show sol_r[1, :]\n",
    "@show sol_r[2, :]  # this one should be constant\n"
   ]
  },
  {
   "cell_type": "code",
   "execution_count": 27,
   "metadata": {},
   "outputs": [
    {
     "data": {
      "image/svg+xml": "<?xml version=\"1.0\" encoding=\"utf-8\"?>\n<svg xmlns=\"http://www.w3.org/2000/svg\" xmlns:xlink=\"http://www.w3.org/1999/xlink\" width=\"600\" height=\"400\" viewBox=\"0 0 2400 1600\">\n<defs>\n  <clipPath id=\"clip720\">\n    <rect x=\"0\" y=\"0\" width=\"2400\" height=\"1600\"/>\n  </clipPath>\n</defs>\n<path clip-path=\"url(#clip720)\" d=\"\nM0 1600 L2400 1600 L2400 0 L0 0  Z\n  \" fill=\"#ffffff\" fill-rule=\"evenodd\" fill-opacity=\"1\"/>\n<defs>\n  <clipPath id=\"clip721\">\n    <rect x=\"480\" y=\"0\" width=\"1681\" height=\"1600\"/>\n  </clipPath>\n</defs>\n<path clip-path=\"url(#clip720)\" d=\"\nM224.098 1423.18 L2352.76 1423.18 L2352.76 123.472 L224.098 123.472  Z\n  \" fill=\"#ffffff\" fill-rule=\"evenodd\" fill-opacity=\"1\"/>\n<defs>\n  <clipPath id=\"clip722\">\n    <rect x=\"224\" y=\"123\" width=\"2130\" height=\"1301\"/>\n  </clipPath>\n</defs>\n<polyline clip-path=\"url(#clip722)\" style=\"stroke:#000000; stroke-linecap:butt; stroke-linejoin:round; stroke-width:2; stroke-opacity:0.1; fill:none\" points=\"\n  284.343,1423.18 284.343,123.472 \n  \"/>\n<polyline clip-path=\"url(#clip722)\" style=\"stroke:#000000; stroke-linecap:butt; stroke-linejoin:round; stroke-width:2; stroke-opacity:0.1; fill:none\" points=\"\n  786.385,1423.18 786.385,123.472 \n  \"/>\n<polyline clip-path=\"url(#clip722)\" style=\"stroke:#000000; stroke-linecap:butt; stroke-linejoin:round; stroke-width:2; stroke-opacity:0.1; fill:none\" points=\"\n  1288.43,1423.18 1288.43,123.472 \n  \"/>\n<polyline clip-path=\"url(#clip722)\" style=\"stroke:#000000; stroke-linecap:butt; stroke-linejoin:round; stroke-width:2; stroke-opacity:0.1; fill:none\" points=\"\n  1790.47,1423.18 1790.47,123.472 \n  \"/>\n<polyline clip-path=\"url(#clip722)\" style=\"stroke:#000000; stroke-linecap:butt; stroke-linejoin:round; stroke-width:2; stroke-opacity:0.1; fill:none\" points=\"\n  2292.51,1423.18 2292.51,123.472 \n  \"/>\n<polyline clip-path=\"url(#clip720)\" style=\"stroke:#000000; stroke-linecap:butt; stroke-linejoin:round; stroke-width:4; stroke-opacity:1; fill:none\" points=\"\n  224.098,1423.18 2352.76,1423.18 \n  \"/>\n<polyline clip-path=\"url(#clip720)\" style=\"stroke:#000000; stroke-linecap:butt; stroke-linejoin:round; stroke-width:4; stroke-opacity:1; fill:none\" points=\"\n  284.343,1423.18 284.343,1404.28 \n  \"/>\n<polyline clip-path=\"url(#clip720)\" style=\"stroke:#000000; stroke-linecap:butt; stroke-linejoin:round; stroke-width:4; stroke-opacity:1; fill:none\" points=\"\n  786.385,1423.18 786.385,1404.28 \n  \"/>\n<polyline clip-path=\"url(#clip720)\" style=\"stroke:#000000; stroke-linecap:butt; stroke-linejoin:round; stroke-width:4; stroke-opacity:1; fill:none\" points=\"\n  1288.43,1423.18 1288.43,1404.28 \n  \"/>\n<polyline clip-path=\"url(#clip720)\" style=\"stroke:#000000; stroke-linecap:butt; stroke-linejoin:round; stroke-width:4; stroke-opacity:1; fill:none\" points=\"\n  1790.47,1423.18 1790.47,1404.28 \n  \"/>\n<polyline clip-path=\"url(#clip720)\" style=\"stroke:#000000; stroke-linecap:butt; stroke-linejoin:round; stroke-width:4; stroke-opacity:1; fill:none\" points=\"\n  2292.51,1423.18 2292.51,1404.28 \n  \"/>\n<path clip-path=\"url(#clip720)\" d=\"M236.415 1481.64 L244.054 1481.64 L244.054 1455.28 L235.744 1456.95 L235.744 1452.69 L244.007 1451.02 L248.683 1451.02 L248.683 1481.64 L256.322 1481.64 L256.322 1485.58 L236.415 1485.58 L236.415 1481.64 Z\" fill=\"#000000\" fill-rule=\"evenodd\" fill-opacity=\"1\" /><path clip-path=\"url(#clip720)\" d=\"M265.767 1479.7 L270.651 1479.7 L270.651 1485.58 L265.767 1485.58 L265.767 1479.7 Z\" fill=\"#000000\" fill-rule=\"evenodd\" fill-opacity=\"1\" /><path clip-path=\"url(#clip720)\" d=\"M290.836 1454.1 Q287.225 1454.1 285.396 1457.66 Q283.591 1461.2 283.591 1468.33 Q283.591 1475.44 285.396 1479.01 Q287.225 1482.55 290.836 1482.55 Q294.47 1482.55 296.276 1479.01 Q298.104 1475.44 298.104 1468.33 Q298.104 1461.2 296.276 1457.66 Q294.47 1454.1 290.836 1454.1 M290.836 1450.39 Q296.646 1450.39 299.702 1455 Q302.78 1459.58 302.78 1468.33 Q302.78 1477.06 299.702 1481.67 Q296.646 1486.25 290.836 1486.25 Q285.026 1486.25 281.947 1481.67 Q278.892 1477.06 278.892 1468.33 Q278.892 1459.58 281.947 1455 Q285.026 1450.39 290.836 1450.39 Z\" fill=\"#000000\" fill-rule=\"evenodd\" fill-opacity=\"1\" /><path clip-path=\"url(#clip720)\" d=\"M320.998 1454.1 Q317.387 1454.1 315.558 1457.66 Q313.752 1461.2 313.752 1468.33 Q313.752 1475.44 315.558 1479.01 Q317.387 1482.55 320.998 1482.55 Q324.632 1482.55 326.438 1479.01 Q328.266 1475.44 328.266 1468.33 Q328.266 1461.2 326.438 1457.66 Q324.632 1454.1 320.998 1454.1 M320.998 1450.39 Q326.808 1450.39 329.864 1455 Q332.942 1459.58 332.942 1468.33 Q332.942 1477.06 329.864 1481.67 Q326.808 1486.25 320.998 1486.25 Q315.188 1486.25 312.109 1481.67 Q309.053 1477.06 309.053 1468.33 Q309.053 1459.58 312.109 1455 Q315.188 1450.39 320.998 1450.39 Z\" fill=\"#000000\" fill-rule=\"evenodd\" fill-opacity=\"1\" /><path clip-path=\"url(#clip720)\" d=\"M738.955 1481.64 L746.593 1481.64 L746.593 1455.28 L738.283 1456.95 L738.283 1452.69 L746.547 1451.02 L751.223 1451.02 L751.223 1481.64 L758.862 1481.64 L758.862 1485.58 L738.955 1485.58 L738.955 1481.64 Z\" fill=\"#000000\" fill-rule=\"evenodd\" fill-opacity=\"1\" /><path clip-path=\"url(#clip720)\" d=\"M768.306 1479.7 L773.191 1479.7 L773.191 1485.58 L768.306 1485.58 L768.306 1479.7 Z\" fill=\"#000000\" fill-rule=\"evenodd\" fill-opacity=\"1\" /><path clip-path=\"url(#clip720)\" d=\"M787.403 1481.64 L803.723 1481.64 L803.723 1485.58 L781.778 1485.58 L781.778 1481.64 Q784.44 1478.89 789.024 1474.26 Q793.63 1469.61 794.811 1468.27 Q797.056 1465.74 797.936 1464.01 Q798.839 1462.25 798.839 1460.56 Q798.839 1457.8 796.894 1456.07 Q794.973 1454.33 791.871 1454.33 Q789.672 1454.33 787.218 1455.09 Q784.788 1455.86 782.01 1457.41 L782.01 1452.69 Q784.834 1451.55 787.288 1450.97 Q789.741 1450.39 791.778 1450.39 Q797.149 1450.39 800.343 1453.08 Q803.538 1455.77 803.538 1460.26 Q803.538 1462.39 802.727 1464.31 Q801.94 1466.2 799.834 1468.8 Q799.255 1469.47 796.153 1472.69 Q793.052 1475.88 787.403 1481.64 Z\" fill=\"#000000\" fill-rule=\"evenodd\" fill-opacity=\"1\" /><path clip-path=\"url(#clip720)\" d=\"M813.584 1451.02 L831.94 1451.02 L831.94 1454.96 L817.866 1454.96 L817.866 1463.43 Q818.885 1463.08 819.903 1462.92 Q820.922 1462.73 821.94 1462.73 Q827.727 1462.73 831.107 1465.9 Q834.486 1469.08 834.486 1474.49 Q834.486 1480.07 831.014 1483.17 Q827.542 1486.25 821.223 1486.25 Q819.047 1486.25 816.778 1485.88 Q814.533 1485.51 812.126 1484.77 L812.126 1480.07 Q814.209 1481.2 816.431 1481.76 Q818.653 1482.32 821.13 1482.32 Q825.135 1482.32 827.473 1480.21 Q829.811 1478.1 829.811 1474.49 Q829.811 1470.88 827.473 1468.77 Q825.135 1466.67 821.13 1466.67 Q819.255 1466.67 817.38 1467.08 Q815.528 1467.5 813.584 1468.38 L813.584 1451.02 Z\" fill=\"#000000\" fill-rule=\"evenodd\" fill-opacity=\"1\" /><path clip-path=\"url(#clip720)\" d=\"M1240.5 1481.64 L1248.14 1481.64 L1248.14 1455.28 L1239.83 1456.95 L1239.83 1452.69 L1248.09 1451.02 L1252.77 1451.02 L1252.77 1481.64 L1260.41 1481.64 L1260.41 1485.58 L1240.5 1485.58 L1240.5 1481.64 Z\" fill=\"#000000\" fill-rule=\"evenodd\" fill-opacity=\"1\" /><path clip-path=\"url(#clip720)\" d=\"M1269.85 1479.7 L1274.73 1479.7 L1274.73 1485.58 L1269.85 1485.58 L1269.85 1479.7 Z\" fill=\"#000000\" fill-rule=\"evenodd\" fill-opacity=\"1\" /><path clip-path=\"url(#clip720)\" d=\"M1284.97 1451.02 L1303.32 1451.02 L1303.32 1454.96 L1289.25 1454.96 L1289.25 1463.43 Q1290.27 1463.08 1291.29 1462.92 Q1292.3 1462.73 1293.32 1462.73 Q1299.11 1462.73 1302.49 1465.9 Q1305.87 1469.08 1305.87 1474.49 Q1305.87 1480.07 1302.4 1483.17 Q1298.92 1486.25 1292.61 1486.25 Q1290.43 1486.25 1288.16 1485.88 Q1285.92 1485.51 1283.51 1484.77 L1283.51 1480.07 Q1285.59 1481.2 1287.81 1481.76 Q1290.04 1482.32 1292.51 1482.32 Q1296.52 1482.32 1298.86 1480.21 Q1301.19 1478.1 1301.19 1474.49 Q1301.19 1470.88 1298.86 1468.77 Q1296.52 1466.67 1292.51 1466.67 Q1290.64 1466.67 1288.76 1467.08 Q1286.91 1467.5 1284.97 1468.38 L1284.97 1451.02 Z\" fill=\"#000000\" fill-rule=\"evenodd\" fill-opacity=\"1\" /><path clip-path=\"url(#clip720)\" d=\"M1325.08 1454.1 Q1321.47 1454.1 1319.64 1457.66 Q1317.84 1461.2 1317.84 1468.33 Q1317.84 1475.44 1319.64 1479.01 Q1321.47 1482.55 1325.08 1482.55 Q1328.72 1482.55 1330.52 1479.01 Q1332.35 1475.44 1332.35 1468.33 Q1332.35 1461.2 1330.52 1457.66 Q1328.72 1454.1 1325.08 1454.1 M1325.08 1450.39 Q1330.89 1450.39 1333.95 1455 Q1337.03 1459.58 1337.03 1468.33 Q1337.03 1477.06 1333.95 1481.67 Q1330.89 1486.25 1325.08 1486.25 Q1319.27 1486.25 1316.19 1481.67 Q1313.14 1477.06 1313.14 1468.33 Q1313.14 1459.58 1316.19 1455 Q1319.27 1450.39 1325.08 1450.39 Z\" fill=\"#000000\" fill-rule=\"evenodd\" fill-opacity=\"1\" /><path clip-path=\"url(#clip720)\" d=\"M1743.04 1481.64 L1750.68 1481.64 L1750.68 1455.28 L1742.37 1456.95 L1742.37 1452.69 L1750.63 1451.02 L1755.31 1451.02 L1755.31 1481.64 L1762.95 1481.64 L1762.95 1485.58 L1743.04 1485.58 L1743.04 1481.64 Z\" fill=\"#000000\" fill-rule=\"evenodd\" fill-opacity=\"1\" /><path clip-path=\"url(#clip720)\" d=\"M1772.39 1479.7 L1777.27 1479.7 L1777.27 1485.58 L1772.39 1485.58 L1772.39 1479.7 Z\" fill=\"#000000\" fill-rule=\"evenodd\" fill-opacity=\"1\" /><path clip-path=\"url(#clip720)\" d=\"M1786.28 1451.02 L1808.5 1451.02 L1808.5 1453.01 L1795.95 1485.58 L1791.07 1485.58 L1802.88 1454.96 L1786.28 1454.96 L1786.28 1451.02 Z\" fill=\"#000000\" fill-rule=\"evenodd\" fill-opacity=\"1\" /><path clip-path=\"url(#clip720)\" d=\"M1817.67 1451.02 L1836.02 1451.02 L1836.02 1454.96 L1821.95 1454.96 L1821.95 1463.43 Q1822.97 1463.08 1823.99 1462.92 Q1825.01 1462.73 1826.02 1462.73 Q1831.81 1462.73 1835.19 1465.9 Q1838.57 1469.08 1838.57 1474.49 Q1838.57 1480.07 1835.1 1483.17 Q1831.63 1486.25 1825.31 1486.25 Q1823.13 1486.25 1820.86 1485.88 Q1818.62 1485.51 1816.21 1484.77 L1816.21 1480.07 Q1818.29 1481.2 1820.52 1481.76 Q1822.74 1482.32 1825.21 1482.32 Q1829.22 1482.32 1831.56 1480.21 Q1833.89 1478.1 1833.89 1474.49 Q1833.89 1470.88 1831.56 1468.77 Q1829.22 1466.67 1825.21 1466.67 Q1823.34 1466.67 1821.46 1467.08 Q1819.61 1467.5 1817.67 1468.38 L1817.67 1451.02 Z\" fill=\"#000000\" fill-rule=\"evenodd\" fill-opacity=\"1\" /><path clip-path=\"url(#clip720)\" d=\"M2248.67 1481.64 L2264.99 1481.64 L2264.99 1485.58 L2243.04 1485.58 L2243.04 1481.64 Q2245.71 1478.89 2250.29 1474.26 Q2254.9 1469.61 2256.08 1468.27 Q2258.32 1465.74 2259.2 1464.01 Q2260.1 1462.25 2260.1 1460.56 Q2260.1 1457.8 2258.16 1456.07 Q2256.24 1454.33 2253.14 1454.33 Q2250.94 1454.33 2248.48 1455.09 Q2246.05 1455.86 2243.28 1457.41 L2243.28 1452.69 Q2246.1 1451.55 2248.55 1450.97 Q2251.01 1450.39 2253.04 1450.39 Q2258.41 1450.39 2261.61 1453.08 Q2264.8 1455.77 2264.8 1460.26 Q2264.8 1462.39 2263.99 1464.31 Q2263.21 1466.2 2261.1 1468.8 Q2260.52 1469.47 2257.42 1472.69 Q2254.32 1475.88 2248.67 1481.64 Z\" fill=\"#000000\" fill-rule=\"evenodd\" fill-opacity=\"1\" /><path clip-path=\"url(#clip720)\" d=\"M2274.8 1479.7 L2279.69 1479.7 L2279.69 1485.58 L2274.8 1485.58 L2274.8 1479.7 Z\" fill=\"#000000\" fill-rule=\"evenodd\" fill-opacity=\"1\" /><path clip-path=\"url(#clip720)\" d=\"M2299.87 1454.1 Q2296.26 1454.1 2294.43 1457.66 Q2292.63 1461.2 2292.63 1468.33 Q2292.63 1475.44 2294.43 1479.01 Q2296.26 1482.55 2299.87 1482.55 Q2303.51 1482.55 2305.31 1479.01 Q2307.14 1475.44 2307.14 1468.33 Q2307.14 1461.2 2305.31 1457.66 Q2303.51 1454.1 2299.87 1454.1 M2299.87 1450.39 Q2305.68 1450.39 2308.74 1455 Q2311.82 1459.58 2311.82 1468.33 Q2311.82 1477.06 2308.74 1481.67 Q2305.68 1486.25 2299.87 1486.25 Q2294.06 1486.25 2290.98 1481.67 Q2287.93 1477.06 2287.93 1468.33 Q2287.93 1459.58 2290.98 1455 Q2294.06 1450.39 2299.87 1450.39 Z\" fill=\"#000000\" fill-rule=\"evenodd\" fill-opacity=\"1\" /><path clip-path=\"url(#clip720)\" d=\"M2330.03 1454.1 Q2326.42 1454.1 2324.59 1457.66 Q2322.79 1461.2 2322.79 1468.33 Q2322.79 1475.44 2324.59 1479.01 Q2326.42 1482.55 2330.03 1482.55 Q2333.67 1482.55 2335.47 1479.01 Q2337.3 1475.44 2337.3 1468.33 Q2337.3 1461.2 2335.47 1457.66 Q2333.67 1454.1 2330.03 1454.1 M2330.03 1450.39 Q2335.84 1450.39 2338.9 1455 Q2341.98 1459.58 2341.98 1468.33 Q2341.98 1477.06 2338.9 1481.67 Q2335.84 1486.25 2330.03 1486.25 Q2324.22 1486.25 2321.14 1481.67 Q2318.09 1477.06 2318.09 1468.33 Q2318.09 1459.58 2321.14 1455 Q2324.22 1450.39 2330.03 1450.39 Z\" fill=\"#000000\" fill-rule=\"evenodd\" fill-opacity=\"1\" /><path clip-path=\"url(#clip720)\" d=\"M1287.49 1522.27 L1287.49 1532.4 L1299.55 1532.4 L1299.55 1536.95 L1287.49 1536.95 L1287.49 1556.3 Q1287.49 1560.66 1288.67 1561.9 Q1289.88 1563.14 1293.54 1563.14 L1299.55 1563.14 L1299.55 1568.04 L1293.54 1568.04 Q1286.76 1568.04 1284.18 1565.53 Q1281.6 1562.98 1281.6 1556.3 L1281.6 1536.95 L1277.3 1536.95 L1277.3 1532.4 L1281.6 1532.4 L1281.6 1522.27 L1287.49 1522.27 Z\" fill=\"#000000\" fill-rule=\"evenodd\" fill-opacity=\"1\" /><polyline clip-path=\"url(#clip722)\" style=\"stroke:#000000; stroke-linecap:butt; stroke-linejoin:round; stroke-width:2; stroke-opacity:0.1; fill:none\" points=\"\n  224.098,1364.76 2352.76,1364.76 \n  \"/>\n<polyline clip-path=\"url(#clip722)\" style=\"stroke:#000000; stroke-linecap:butt; stroke-linejoin:round; stroke-width:2; stroke-opacity:0.1; fill:none\" points=\"\n  224.098,1099.31 2352.76,1099.31 \n  \"/>\n<polyline clip-path=\"url(#clip722)\" style=\"stroke:#000000; stroke-linecap:butt; stroke-linejoin:round; stroke-width:2; stroke-opacity:0.1; fill:none\" points=\"\n  224.098,833.867 2352.76,833.867 \n  \"/>\n<polyline clip-path=\"url(#clip722)\" style=\"stroke:#000000; stroke-linecap:butt; stroke-linejoin:round; stroke-width:2; stroke-opacity:0.1; fill:none\" points=\"\n  224.098,568.421 2352.76,568.421 \n  \"/>\n<polyline clip-path=\"url(#clip722)\" style=\"stroke:#000000; stroke-linecap:butt; stroke-linejoin:round; stroke-width:2; stroke-opacity:0.1; fill:none\" points=\"\n  224.098,302.975 2352.76,302.975 \n  \"/>\n<polyline clip-path=\"url(#clip720)\" style=\"stroke:#000000; stroke-linecap:butt; stroke-linejoin:round; stroke-width:4; stroke-opacity:1; fill:none\" points=\"\n  224.098,1423.18 224.098,123.472 \n  \"/>\n<polyline clip-path=\"url(#clip720)\" style=\"stroke:#000000; stroke-linecap:butt; stroke-linejoin:round; stroke-width:4; stroke-opacity:1; fill:none\" points=\"\n  224.098,1364.76 242.996,1364.76 \n  \"/>\n<polyline clip-path=\"url(#clip720)\" style=\"stroke:#000000; stroke-linecap:butt; stroke-linejoin:round; stroke-width:4; stroke-opacity:1; fill:none\" points=\"\n  224.098,1099.31 242.996,1099.31 \n  \"/>\n<polyline clip-path=\"url(#clip720)\" style=\"stroke:#000000; stroke-linecap:butt; stroke-linejoin:round; stroke-width:4; stroke-opacity:1; fill:none\" points=\"\n  224.098,833.867 242.996,833.867 \n  \"/>\n<polyline clip-path=\"url(#clip720)\" style=\"stroke:#000000; stroke-linecap:butt; stroke-linejoin:round; stroke-width:4; stroke-opacity:1; fill:none\" points=\"\n  224.098,568.421 242.996,568.421 \n  \"/>\n<polyline clip-path=\"url(#clip720)\" style=\"stroke:#000000; stroke-linecap:butt; stroke-linejoin:round; stroke-width:4; stroke-opacity:1; fill:none\" points=\"\n  224.098,302.975 242.996,302.975 \n  \"/>\n<path clip-path=\"url(#clip720)\" d=\"M50.9921 1365.21 L80.6679 1365.21 L80.6679 1369.15 L50.9921 1369.15 L50.9921 1365.21 Z\" fill=\"#000000\" fill-rule=\"evenodd\" fill-opacity=\"1\" /><path clip-path=\"url(#clip720)\" d=\"M89.5799 1347.48 L111.802 1347.48 L111.802 1349.47 L99.2558 1382.04 L94.3715 1382.04 L106.177 1351.41 L89.5799 1351.41 L89.5799 1347.48 Z\" fill=\"#000000\" fill-rule=\"evenodd\" fill-opacity=\"1\" /><path clip-path=\"url(#clip720)\" d=\"M131.501 1362.9 Q128.353 1362.9 126.501 1365.05 Q124.672 1367.2 124.672 1370.95 Q124.672 1374.68 126.501 1376.85 Q128.353 1379.01 131.501 1379.01 Q134.649 1379.01 136.478 1376.85 Q138.33 1374.68 138.33 1370.95 Q138.33 1367.2 136.478 1365.05 Q134.649 1362.9 131.501 1362.9 M140.783 1348.24 L140.783 1352.5 Q139.024 1351.67 137.219 1351.23 Q135.436 1350.79 133.677 1350.79 Q129.047 1350.79 126.594 1353.91 Q124.163 1357.04 123.816 1363.36 Q125.182 1361.34 127.242 1360.28 Q129.302 1359.19 131.779 1359.19 Q136.987 1359.19 139.996 1362.36 Q143.029 1365.51 143.029 1370.95 Q143.029 1376.28 139.881 1379.49 Q136.732 1382.71 131.501 1382.71 Q125.506 1382.71 122.334 1378.13 Q119.163 1373.52 119.163 1364.79 Q119.163 1356.6 123.052 1351.74 Q126.941 1346.85 133.492 1346.85 Q135.251 1346.85 137.033 1347.2 Q138.839 1347.55 140.783 1348.24 Z\" fill=\"#000000\" fill-rule=\"evenodd\" fill-opacity=\"1\" /><path clip-path=\"url(#clip720)\" d=\"M151.084 1376.16 L155.968 1376.16 L155.968 1382.04 L151.084 1382.04 L151.084 1376.16 Z\" fill=\"#000000\" fill-rule=\"evenodd\" fill-opacity=\"1\" /><path clip-path=\"url(#clip720)\" d=\"M176.153 1350.56 Q172.542 1350.56 170.714 1354.12 Q168.908 1357.66 168.908 1364.79 Q168.908 1371.9 170.714 1375.46 Q172.542 1379.01 176.153 1379.01 Q179.788 1379.01 181.593 1375.46 Q183.422 1371.9 183.422 1364.79 Q183.422 1357.66 181.593 1354.12 Q179.788 1350.56 176.153 1350.56 M176.153 1346.85 Q181.964 1346.85 185.019 1351.46 Q188.098 1356.04 188.098 1364.79 Q188.098 1373.52 185.019 1378.13 Q181.964 1382.71 176.153 1382.71 Q170.343 1382.71 167.265 1378.13 Q164.209 1373.52 164.209 1364.79 Q164.209 1356.04 167.265 1351.46 Q170.343 1346.85 176.153 1346.85 Z\" fill=\"#000000\" fill-rule=\"evenodd\" fill-opacity=\"1\" /><path clip-path=\"url(#clip720)\" d=\"M51.9875 1099.76 L81.6633 1099.76 L81.6633 1103.7 L51.9875 1103.7 L51.9875 1099.76 Z\" fill=\"#000000\" fill-rule=\"evenodd\" fill-opacity=\"1\" /><path clip-path=\"url(#clip720)\" d=\"M90.5752 1082.03 L112.797 1082.03 L112.797 1084.02 L100.251 1116.59 L95.3669 1116.59 L107.172 1085.97 L90.5752 1085.97 L90.5752 1082.03 Z\" fill=\"#000000\" fill-rule=\"evenodd\" fill-opacity=\"1\" /><path clip-path=\"url(#clip720)\" d=\"M121.964 1082.03 L140.32 1082.03 L140.32 1085.97 L126.246 1085.97 L126.246 1094.44 Q127.265 1094.09 128.283 1093.93 Q129.302 1093.75 130.32 1093.75 Q136.107 1093.75 139.487 1096.92 Q142.867 1100.09 142.867 1105.5 Q142.867 1111.08 139.394 1114.19 Q135.922 1117.26 129.603 1117.26 Q127.427 1117.26 125.158 1116.89 Q122.913 1116.52 120.506 1115.78 L120.506 1111.08 Q122.589 1112.22 124.811 1112.77 Q127.033 1113.33 129.51 1113.33 Q133.515 1113.33 135.853 1111.22 Q138.191 1109.12 138.191 1105.5 Q138.191 1101.89 135.853 1099.79 Q133.515 1097.68 129.51 1097.68 Q127.635 1097.68 125.76 1098.1 Q123.908 1098.51 121.964 1099.39 L121.964 1082.03 Z\" fill=\"#000000\" fill-rule=\"evenodd\" fill-opacity=\"1\" /><path clip-path=\"url(#clip720)\" d=\"M152.08 1110.71 L156.964 1110.71 L156.964 1116.59 L152.08 1116.59 L152.08 1110.71 Z\" fill=\"#000000\" fill-rule=\"evenodd\" fill-opacity=\"1\" /><path clip-path=\"url(#clip720)\" d=\"M167.195 1082.03 L185.552 1082.03 L185.552 1085.97 L171.478 1085.97 L171.478 1094.44 Q172.496 1094.09 173.515 1093.93 Q174.533 1093.75 175.552 1093.75 Q181.339 1093.75 184.718 1096.92 Q188.098 1100.09 188.098 1105.5 Q188.098 1111.08 184.626 1114.19 Q181.153 1117.26 174.834 1117.26 Q172.658 1117.26 170.39 1116.89 Q168.144 1116.52 165.737 1115.78 L165.737 1111.08 Q167.82 1112.22 170.042 1112.77 Q172.265 1113.33 174.741 1113.33 Q178.746 1113.33 181.084 1111.22 Q183.422 1109.12 183.422 1105.5 Q183.422 1101.89 181.084 1099.79 Q178.746 1097.68 174.741 1097.68 Q172.866 1097.68 170.991 1098.1 Q169.14 1098.51 167.195 1099.39 L167.195 1082.03 Z\" fill=\"#000000\" fill-rule=\"evenodd\" fill-opacity=\"1\" /><path clip-path=\"url(#clip720)\" d=\"M50.9921 834.318 L80.6679 834.318 L80.6679 838.253 L50.9921 838.253 L50.9921 834.318 Z\" fill=\"#000000\" fill-rule=\"evenodd\" fill-opacity=\"1\" /><path clip-path=\"url(#clip720)\" d=\"M89.5799 816.587 L111.802 816.587 L111.802 818.578 L99.2558 851.147 L94.3715 851.147 L106.177 820.522 L89.5799 820.522 L89.5799 816.587 Z\" fill=\"#000000\" fill-rule=\"evenodd\" fill-opacity=\"1\" /><path clip-path=\"url(#clip720)\" d=\"M120.969 816.587 L139.325 816.587 L139.325 820.522 L125.251 820.522 L125.251 828.994 Q126.27 828.647 127.288 828.485 Q128.307 828.3 129.325 828.3 Q135.112 828.3 138.492 831.471 Q141.871 834.642 141.871 840.059 Q141.871 845.638 138.399 848.739 Q134.927 851.818 128.607 851.818 Q126.432 851.818 124.163 851.448 Q121.918 851.077 119.51 850.337 L119.51 845.638 Q121.594 846.772 123.816 847.327 Q126.038 847.883 128.515 847.883 Q132.519 847.883 134.857 845.776 Q137.195 843.67 137.195 840.059 Q137.195 836.448 134.857 834.341 Q132.519 832.235 128.515 832.235 Q126.64 832.235 124.765 832.652 Q122.913 833.068 120.969 833.948 L120.969 816.587 Z\" fill=\"#000000\" fill-rule=\"evenodd\" fill-opacity=\"1\" /><path clip-path=\"url(#clip720)\" d=\"M151.084 845.267 L155.968 845.267 L155.968 851.147 L151.084 851.147 L151.084 845.267 Z\" fill=\"#000000\" fill-rule=\"evenodd\" fill-opacity=\"1\" /><path clip-path=\"url(#clip720)\" d=\"M176.153 819.665 Q172.542 819.665 170.714 823.23 Q168.908 826.772 168.908 833.901 Q168.908 841.008 170.714 844.573 Q172.542 848.114 176.153 848.114 Q179.788 848.114 181.593 844.573 Q183.422 841.008 183.422 833.901 Q183.422 826.772 181.593 823.23 Q179.788 819.665 176.153 819.665 M176.153 815.962 Q181.964 815.962 185.019 820.568 Q188.098 825.152 188.098 833.901 Q188.098 842.628 185.019 847.235 Q181.964 851.818 176.153 851.818 Q170.343 851.818 167.265 847.235 Q164.209 842.628 164.209 833.901 Q164.209 825.152 167.265 820.568 Q170.343 815.962 176.153 815.962 Z\" fill=\"#000000\" fill-rule=\"evenodd\" fill-opacity=\"1\" /><path clip-path=\"url(#clip720)\" d=\"M51.9875 568.872 L81.6633 568.872 L81.6633 572.807 L51.9875 572.807 L51.9875 568.872 Z\" fill=\"#000000\" fill-rule=\"evenodd\" fill-opacity=\"1\" /><path clip-path=\"url(#clip720)\" d=\"M90.5752 551.141 L112.797 551.141 L112.797 553.131 L100.251 585.701 L95.3669 585.701 L107.172 555.076 L90.5752 555.076 L90.5752 551.141 Z\" fill=\"#000000\" fill-rule=\"evenodd\" fill-opacity=\"1\" /><path clip-path=\"url(#clip720)\" d=\"M134.765 555.215 L122.959 573.664 L134.765 573.664 L134.765 555.215 M133.538 551.141 L139.418 551.141 L139.418 573.664 L144.348 573.664 L144.348 577.553 L139.418 577.553 L139.418 585.701 L134.765 585.701 L134.765 577.553 L119.163 577.553 L119.163 573.039 L133.538 551.141 Z\" fill=\"#000000\" fill-rule=\"evenodd\" fill-opacity=\"1\" /><path clip-path=\"url(#clip720)\" d=\"M152.08 579.821 L156.964 579.821 L156.964 585.701 L152.08 585.701 L152.08 579.821 Z\" fill=\"#000000\" fill-rule=\"evenodd\" fill-opacity=\"1\" /><path clip-path=\"url(#clip720)\" d=\"M167.195 551.141 L185.552 551.141 L185.552 555.076 L171.478 555.076 L171.478 563.548 Q172.496 563.201 173.515 563.039 Q174.533 562.854 175.552 562.854 Q181.339 562.854 184.718 566.025 Q188.098 569.196 188.098 574.613 Q188.098 580.191 184.626 583.293 Q181.153 586.372 174.834 586.372 Q172.658 586.372 170.39 586.002 Q168.144 585.631 165.737 584.891 L165.737 580.191 Q167.82 581.326 170.042 581.881 Q172.265 582.437 174.741 582.437 Q178.746 582.437 181.084 580.33 Q183.422 578.224 183.422 574.613 Q183.422 571.002 181.084 568.895 Q178.746 566.789 174.741 566.789 Q172.866 566.789 170.991 567.205 Q169.14 567.622 167.195 568.502 L167.195 551.141 Z\" fill=\"#000000\" fill-rule=\"evenodd\" fill-opacity=\"1\" /><path clip-path=\"url(#clip720)\" d=\"M50.9921 303.426 L80.6679 303.426 L80.6679 307.361 L50.9921 307.361 L50.9921 303.426 Z\" fill=\"#000000\" fill-rule=\"evenodd\" fill-opacity=\"1\" /><path clip-path=\"url(#clip720)\" d=\"M89.5799 285.695 L111.802 285.695 L111.802 287.685 L99.2558 320.255 L94.3715 320.255 L106.177 289.63 L89.5799 289.63 L89.5799 285.695 Z\" fill=\"#000000\" fill-rule=\"evenodd\" fill-opacity=\"1\" /><path clip-path=\"url(#clip720)\" d=\"M133.769 289.769 L121.964 308.218 L133.769 308.218 L133.769 289.769 M132.543 285.695 L138.422 285.695 L138.422 308.218 L143.353 308.218 L143.353 312.107 L138.422 312.107 L138.422 320.255 L133.769 320.255 L133.769 312.107 L118.168 312.107 L118.168 307.593 L132.543 285.695 Z\" fill=\"#000000\" fill-rule=\"evenodd\" fill-opacity=\"1\" /><path clip-path=\"url(#clip720)\" d=\"M151.084 314.375 L155.968 314.375 L155.968 320.255 L151.084 320.255 L151.084 314.375 Z\" fill=\"#000000\" fill-rule=\"evenodd\" fill-opacity=\"1\" /><path clip-path=\"url(#clip720)\" d=\"M176.153 288.773 Q172.542 288.773 170.714 292.338 Q168.908 295.88 168.908 303.009 Q168.908 310.116 170.714 313.681 Q172.542 317.222 176.153 317.222 Q179.788 317.222 181.593 313.681 Q183.422 310.116 183.422 303.009 Q183.422 295.88 181.593 292.338 Q179.788 288.773 176.153 288.773 M176.153 285.07 Q181.964 285.07 185.019 289.676 Q188.098 294.259 188.098 303.009 Q188.098 311.736 185.019 316.343 Q181.964 320.926 176.153 320.926 Q170.343 320.926 167.265 316.343 Q164.209 311.736 164.209 303.009 Q164.209 294.259 167.265 289.676 Q170.343 285.07 176.153 285.07 Z\" fill=\"#000000\" fill-rule=\"evenodd\" fill-opacity=\"1\" /><path clip-path=\"url(#clip720)\" d=\"M902.254 12.096 L937.011 12.096 L937.011 18.9825 L910.437 18.9825 L910.437 36.8065 L934.418 36.8065 L934.418 43.6931 L910.437 43.6931 L910.437 72.576 L902.254 72.576 L902.254 12.096 Z\" fill=\"#000000\" fill-rule=\"evenodd\" fill-opacity=\"1\" /><path clip-path=\"url(#clip720)\" d=\"M969.904 34.1734 Q968.649 33.4443 967.15 33.1202 Q965.691 32.7556 963.909 32.7556 Q957.59 32.7556 954.187 36.8875 Q950.825 40.9789 950.825 48.6757 L950.825 72.576 L943.33 72.576 L943.33 27.2059 L950.825 27.2059 L950.825 34.2544 Q953.174 30.1225 956.941 28.1376 Q960.709 26.1121 966.096 26.1121 Q966.866 26.1121 967.798 26.2337 Q968.73 26.3147 969.864 26.5172 L969.904 34.1734 Z\" fill=\"#000000\" fill-rule=\"evenodd\" fill-opacity=\"1\" /><path clip-path=\"url(#clip720)\" d=\"M993.481 32.4315 Q987.485 32.4315 984.001 37.1306 Q980.518 41.7891 980.518 49.9314 Q980.518 58.0738 983.961 62.7728 Q987.445 67.4314 993.481 67.4314 Q999.435 67.4314 1002.92 62.7323 Q1006.4 58.0333 1006.4 49.9314 Q1006.4 41.8701 1002.92 37.1711 Q999.435 32.4315 993.481 32.4315 M993.481 26.1121 Q1003.2 26.1121 1008.75 32.4315 Q1014.3 38.7509 1014.3 49.9314 Q1014.3 61.0714 1008.75 67.4314 Q1003.2 73.7508 993.481 73.7508 Q983.718 73.7508 978.168 67.4314 Q972.659 61.0714 972.659 49.9314 Q972.659 38.7509 978.168 32.4315 Q983.718 26.1121 993.481 26.1121 Z\" fill=\"#000000\" fill-rule=\"evenodd\" fill-opacity=\"1\" /><path clip-path=\"url(#clip720)\" d=\"M1061.98 35.9153 Q1064.78 30.8922 1068.67 28.5022 Q1072.55 26.1121 1077.82 26.1121 Q1084.91 26.1121 1088.76 31.0947 Q1092.61 36.0368 1092.61 45.1919 L1092.61 72.576 L1085.11 72.576 L1085.11 45.4349 Q1085.11 38.913 1082.8 35.7533 Q1080.49 32.5936 1075.75 32.5936 Q1069.96 32.5936 1066.6 36.4419 Q1063.24 40.2903 1063.24 46.9338 L1063.24 72.576 L1055.74 72.576 L1055.74 45.4349 Q1055.74 38.8725 1053.43 35.7533 Q1051.12 32.5936 1046.3 32.5936 Q1040.59 32.5936 1037.23 36.4824 Q1033.87 40.3308 1033.87 46.9338 L1033.87 72.576 L1026.37 72.576 L1026.37 27.2059 L1033.87 27.2059 L1033.87 34.2544 Q1036.42 30.082 1039.98 28.0971 Q1043.55 26.1121 1048.45 26.1121 Q1053.39 26.1121 1056.84 28.6237 Q1060.32 31.1352 1061.98 35.9153 Z\" fill=\"#000000\" fill-rule=\"evenodd\" fill-opacity=\"1\" /><path clip-path=\"url(#clip720)\" d=\"M1141.22 14.324 L1141.22 27.2059 L1156.57 27.2059 L1156.57 32.9987 L1141.22 32.9987 L1141.22 57.6282 Q1141.22 63.1779 1142.72 64.7578 Q1144.26 66.3376 1148.91 66.3376 L1156.57 66.3376 L1156.57 72.576 L1148.91 72.576 Q1140.29 72.576 1137 69.3758 Q1133.72 66.1351 1133.72 57.6282 L1133.72 32.9987 L1128.25 32.9987 L1128.25 27.2059 L1133.72 27.2059 L1133.72 14.324 L1141.22 14.324 Z\" fill=\"#000000\" fill-rule=\"evenodd\" fill-opacity=\"1\" /><path clip-path=\"url(#clip720)\" d=\"M1204.09 45.1919 L1204.09 72.576 L1196.63 72.576 L1196.63 45.4349 Q1196.63 38.994 1194.12 35.7938 Q1191.61 32.5936 1186.59 32.5936 Q1180.55 32.5936 1177.07 36.4419 Q1173.58 40.2903 1173.58 46.9338 L1173.58 72.576 L1166.09 72.576 L1166.09 9.54393 L1173.58 9.54393 L1173.58 34.2544 Q1176.26 30.163 1179.86 28.1376 Q1183.51 26.1121 1188.25 26.1121 Q1196.07 26.1121 1200.08 30.9732 Q1204.09 35.7938 1204.09 45.1919 Z\" fill=\"#000000\" fill-rule=\"evenodd\" fill-opacity=\"1\" /><path clip-path=\"url(#clip720)\" d=\"M1257.76 48.0275 L1257.76 51.6733 L1223.49 51.6733 Q1223.98 59.3701 1228.11 63.421 Q1232.28 67.4314 1239.69 67.4314 Q1243.99 67.4314 1248 66.3781 Q1252.05 65.3249 1256.02 63.2184 L1256.02 70.267 Q1252.01 71.9684 1247.8 72.8596 Q1243.58 73.7508 1239.25 73.7508 Q1228.39 73.7508 1222.03 67.4314 Q1215.71 61.1119 1215.71 50.3365 Q1215.71 39.1965 1221.71 32.6746 Q1227.74 26.1121 1237.95 26.1121 Q1247.11 26.1121 1252.41 32.0264 Q1257.76 37.9003 1257.76 48.0275 M1250.31 45.84 Q1250.23 39.7232 1246.86 36.0774 Q1243.54 32.4315 1238.03 32.4315 Q1231.8 32.4315 1228.03 35.9558 Q1224.3 39.4801 1223.73 45.8805 L1250.31 45.84 Z\" fill=\"#000000\" fill-rule=\"evenodd\" fill-opacity=\"1\" /><path clip-path=\"url(#clip720)\" d=\"M1322.66 34.1734 Q1321.4 33.4443 1319.9 33.1202 Q1318.44 32.7556 1316.66 32.7556 Q1310.34 32.7556 1306.94 36.8875 Q1303.58 40.9789 1303.58 48.6757 L1303.58 72.576 L1296.08 72.576 L1296.08 27.2059 L1303.58 27.2059 L1303.58 34.2544 Q1305.93 30.1225 1309.69 28.1376 Q1313.46 26.1121 1318.85 26.1121 Q1319.62 26.1121 1320.55 26.2337 Q1321.48 26.3147 1322.62 26.5172 L1322.66 34.1734 Z\" fill=\"#000000\" fill-rule=\"evenodd\" fill-opacity=\"1\" /><path clip-path=\"url(#clip720)\" d=\"M1367.46 48.0275 L1367.46 51.6733 L1333.19 51.6733 Q1333.68 59.3701 1337.81 63.421 Q1341.98 67.4314 1349.39 67.4314 Q1353.69 67.4314 1357.7 66.3781 Q1361.75 65.3249 1365.72 63.2184 L1365.72 70.267 Q1361.71 71.9684 1357.49 72.8596 Q1353.28 73.7508 1348.95 73.7508 Q1338.09 73.7508 1331.73 67.4314 Q1325.41 61.1119 1325.41 50.3365 Q1325.41 39.1965 1331.41 32.6746 Q1337.44 26.1121 1347.65 26.1121 Q1356.81 26.1121 1362.11 32.0264 Q1367.46 37.9003 1367.46 48.0275 M1360.01 45.84 Q1359.93 39.7232 1356.56 36.0774 Q1353.24 32.4315 1347.73 32.4315 Q1341.49 32.4315 1337.73 35.9558 Q1334 39.4801 1333.43 45.8805 L1360.01 45.84 Z\" fill=\"#000000\" fill-rule=\"evenodd\" fill-opacity=\"1\" /><path clip-path=\"url(#clip720)\" d=\"M1409.55 34.0924 L1409.55 9.54393 L1417 9.54393 L1417 72.576 L1409.55 72.576 L1409.55 65.7705 Q1407.2 69.8214 1403.59 71.8063 Q1400.03 73.7508 1395.01 73.7508 Q1386.78 73.7508 1381.6 67.1883 Q1376.45 60.6258 1376.45 49.9314 Q1376.45 39.2371 1381.6 32.6746 Q1386.78 26.1121 1395.01 26.1121 Q1400.03 26.1121 1403.59 28.0971 Q1407.2 30.0415 1409.55 34.0924 M1384.15 49.9314 Q1384.15 58.1548 1387.51 62.8538 Q1390.91 67.5124 1396.83 67.5124 Q1402.74 67.5124 1406.15 62.8538 Q1409.55 58.1548 1409.55 49.9314 Q1409.55 41.7081 1406.15 37.0496 Q1402.74 32.3505 1396.83 32.3505 Q1390.91 32.3505 1387.51 37.0496 Q1384.15 41.7081 1384.15 49.9314 Z\" fill=\"#000000\" fill-rule=\"evenodd\" fill-opacity=\"1\" /><path clip-path=\"url(#clip720)\" d=\"M1431.59 54.671 L1431.59 27.2059 L1439.04 27.2059 L1439.04 54.3874 Q1439.04 60.8284 1441.55 64.0691 Q1444.06 67.2693 1449.09 67.2693 Q1455.12 67.2693 1458.61 63.421 Q1462.13 59.5726 1462.13 52.9291 L1462.13 27.2059 L1469.58 27.2059 L1469.58 72.576 L1462.13 72.576 L1462.13 65.6084 Q1459.42 69.7404 1455.81 71.7658 Q1452.25 73.7508 1447.51 73.7508 Q1439.69 73.7508 1435.64 68.8897 Q1431.59 64.0286 1431.59 54.671 M1450.34 26.1121 L1450.34 26.1121 Z\" fill=\"#000000\" fill-rule=\"evenodd\" fill-opacity=\"1\" /><path clip-path=\"url(#clip720)\" d=\"M1517.59 28.9478 L1517.59 35.9153 Q1514.43 34.1734 1511.23 33.3227 Q1508.07 32.4315 1504.83 32.4315 Q1497.58 32.4315 1493.56 37.0496 Q1489.55 41.6271 1489.55 49.9314 Q1489.55 58.2358 1493.56 62.8538 Q1497.58 67.4314 1504.83 67.4314 Q1508.07 67.4314 1511.23 66.5807 Q1514.43 65.6895 1517.59 63.9476 L1517.59 70.8341 Q1514.47 72.2924 1511.11 73.0216 Q1507.78 73.7508 1504.02 73.7508 Q1493.77 73.7508 1487.73 67.3098 Q1481.7 60.8689 1481.7 49.9314 Q1481.7 38.832 1487.77 32.472 Q1493.89 26.1121 1504.5 26.1121 Q1507.95 26.1121 1511.23 26.8413 Q1514.51 27.5299 1517.59 28.9478 Z\" fill=\"#000000\" fill-rule=\"evenodd\" fill-opacity=\"1\" /><path clip-path=\"url(#clip720)\" d=\"M1537.92 14.324 L1537.92 27.2059 L1553.28 27.2059 L1553.28 32.9987 L1537.92 32.9987 L1537.92 57.6282 Q1537.92 63.1779 1539.42 64.7578 Q1540.96 66.3376 1545.62 66.3376 L1553.28 66.3376 L1553.28 72.576 L1545.62 72.576 Q1536.99 72.576 1533.71 69.3758 Q1530.43 66.1351 1530.43 57.6282 L1530.43 32.9987 L1524.96 32.9987 L1524.96 27.2059 L1530.43 27.2059 L1530.43 14.324 L1537.92 14.324 Z\" fill=\"#000000\" fill-rule=\"evenodd\" fill-opacity=\"1\" /><path clip-path=\"url(#clip720)\" d=\"M1563.08 27.2059 L1570.53 27.2059 L1570.53 72.576 L1563.08 72.576 L1563.08 27.2059 M1563.08 9.54393 L1570.53 9.54393 L1570.53 18.9825 L1563.08 18.9825 L1563.08 9.54393 Z\" fill=\"#000000\" fill-rule=\"evenodd\" fill-opacity=\"1\" /><path clip-path=\"url(#clip720)\" d=\"M1603.71 32.4315 Q1597.71 32.4315 1594.23 37.1306 Q1590.75 41.7891 1590.75 49.9314 Q1590.75 58.0738 1594.19 62.7728 Q1597.67 67.4314 1603.71 67.4314 Q1609.66 67.4314 1613.15 62.7323 Q1616.63 58.0333 1616.63 49.9314 Q1616.63 41.8701 1613.15 37.1711 Q1609.66 32.4315 1603.71 32.4315 M1603.71 26.1121 Q1613.43 26.1121 1618.98 32.4315 Q1624.53 38.7509 1624.53 49.9314 Q1624.53 61.0714 1618.98 67.4314 Q1613.43 73.7508 1603.71 73.7508 Q1593.95 73.7508 1588.4 67.4314 Q1582.89 61.0714 1582.89 49.9314 Q1582.89 38.7509 1588.4 32.4315 Q1593.95 26.1121 1603.71 26.1121 Z\" fill=\"#000000\" fill-rule=\"evenodd\" fill-opacity=\"1\" /><path clip-path=\"url(#clip720)\" d=\"M1674.6 45.1919 L1674.6 72.576 L1667.15 72.576 L1667.15 45.4349 Q1667.15 38.994 1664.63 35.7938 Q1662.12 32.5936 1657.1 32.5936 Q1651.06 32.5936 1647.58 36.4419 Q1644.1 40.2903 1644.1 46.9338 L1644.1 72.576 L1636.6 72.576 L1636.6 27.2059 L1644.1 27.2059 L1644.1 34.2544 Q1646.77 30.163 1650.38 28.1376 Q1654.02 26.1121 1658.76 26.1121 Q1666.58 26.1121 1670.59 30.9732 Q1674.6 35.7938 1674.6 45.1919 Z\" fill=\"#000000\" fill-rule=\"evenodd\" fill-opacity=\"1\" /><polyline clip-path=\"url(#clip722)\" style=\"stroke:#009af9; stroke-linecap:butt; stroke-linejoin:round; stroke-width:4; stroke-opacity:1; fill:none\" points=\"\n  284.343,160.256 2292.51,1386.4 \n  \"/>\n<path clip-path=\"url(#clip720)\" d=\"\nM1992.85 270.476 L2281.8 270.476 L2281.8 166.796 L1992.85 166.796  Z\n  \" fill=\"#ffffff\" fill-rule=\"evenodd\" fill-opacity=\"1\"/>\n<polyline clip-path=\"url(#clip720)\" style=\"stroke:#000000; stroke-linecap:butt; stroke-linejoin:round; stroke-width:4; stroke-opacity:1; fill:none\" points=\"\n  1992.85,270.476 2281.8,270.476 2281.8,166.796 1992.85,166.796 1992.85,270.476 \n  \"/>\n<polyline clip-path=\"url(#clip720)\" style=\"stroke:#009af9; stroke-linecap:butt; stroke-linejoin:round; stroke-width:4; stroke-opacity:1; fill:none\" points=\"\n  2016.5,218.636 2158.42,218.636 \n  \"/>\n<path clip-path=\"url(#clip720)\" d=\"M2195.91 238.323 Q2194.1 242.953 2192.39 244.365 Q2190.68 245.777 2187.81 245.777 L2184.4 245.777 L2184.4 242.212 L2186.9 242.212 Q2188.66 242.212 2189.64 241.379 Q2190.61 240.545 2191.79 237.443 L2192.55 235.499 L2182.07 209.99 L2186.58 209.99 L2194.68 230.268 L2202.78 209.99 L2207.3 209.99 L2195.91 238.323 Z\" fill=\"#000000\" fill-rule=\"evenodd\" fill-opacity=\"1\" /><path clip-path=\"url(#clip720)\" d=\"M2214.59 231.981 L2222.23 231.981 L2222.23 205.615 L2213.92 207.282 L2213.92 203.022 L2222.18 201.356 L2226.86 201.356 L2226.86 231.981 L2234.5 231.981 L2234.5 235.916 L2214.59 235.916 L2214.59 231.981 Z\" fill=\"#000000\" fill-rule=\"evenodd\" fill-opacity=\"1\" /></svg>\n"
     },
     "execution_count": 27,
     "metadata": {},
     "output_type": "execute_result"
    }
   ],
   "source": [
    "plt_r = plot(sol_r[1, :], label=xs_r[1], xaxis=\"t\", title=\"From the reduction\")\n",
    "plt_r"
   ]
  },
  {
   "cell_type": "code",
   "execution_count": 25,
   "metadata": {},
   "outputs": [
    {
     "name": "stdout",
     "output_type": "stream",
     "text": [
      "sol_c[1] = [-73.73117264455821, -73.73117218110153, -73.73116754653475, -73.73115102166206, -73.7311210512312, -73.7310779163067, -73.73102184986251, -73.7309506875473, -73.73086451686491, -73.73076384210117, -73.73065225953803, -73.73063337802665]\n",
      "sol_c[2] = [-12.25009162409355, -12.250091318448298, -12.250054639235273, -12.24942614918848, -12.246300695056782, -12.237286481514971, -12.217441009786178, -12.178126605899685, -12.105530829628414, -11.971807566000905, -11.712763677074065, -11.649087789758923]\n"
     ]
    }
   ],
   "source": [
    "### check that the results coincide ?\n",
    "\n",
    "# sol_c[i] is newvar[i] evaluated at sol\n",
    "\n",
    "sol_c = []\n",
    "for i in 1:2\n",
    "    newvar = reduction[:new_vars][i]\n",
    "    tseries = []\n",
    "    for (c, m) in zip(Nemo.coefficients(newvar), Nemo.exponent_vectors(newvar))\n",
    "        push!(tseries, Float64(c) * sol[findfirst(i -> i == 1, m), :])     \n",
    "    end\n",
    "    push!(sol_c, [evaluate_float(newvar, [sol[i, j] for i in 1:n]) for j in 1:length(sol[1, :])])\n",
    "end\n",
    "\n",
    "@show sol_c[1]   # inferred y1'\n",
    "@show sol_c[2];  # inferred y2'"
   ]
  },
  {
   "cell_type": "code",
   "execution_count": 29,
   "metadata": {},
   "outputs": [
    {
     "data": {
      "image/svg+xml": "<?xml version=\"1.0\" encoding=\"utf-8\"?>\n<svg xmlns=\"http://www.w3.org/2000/svg\" xmlns:xlink=\"http://www.w3.org/1999/xlink\" width=\"600\" height=\"400\" viewBox=\"0 0 2400 1600\">\n<defs>\n  <clipPath id=\"clip760\">\n    <rect x=\"0\" y=\"0\" width=\"2400\" height=\"1600\"/>\n  </clipPath>\n</defs>\n<path clip-path=\"url(#clip760)\" d=\"\nM0 1600 L2400 1600 L2400 0 L0 0  Z\n  \" fill=\"#ffffff\" fill-rule=\"evenodd\" fill-opacity=\"1\"/>\n<defs>\n  <clipPath id=\"clip761\">\n    <rect x=\"480\" y=\"0\" width=\"1681\" height=\"1600\"/>\n  </clipPath>\n</defs>\n<path clip-path=\"url(#clip760)\" d=\"\nM202.177 1423.18 L2352.76 1423.18 L2352.76 123.472 L202.177 123.472  Z\n  \" fill=\"#ffffff\" fill-rule=\"evenodd\" fill-opacity=\"1\"/>\n<defs>\n  <clipPath id=\"clip762\">\n    <rect x=\"202\" y=\"123\" width=\"2152\" height=\"1301\"/>\n  </clipPath>\n</defs>\n<polyline clip-path=\"url(#clip762)\" style=\"stroke:#000000; stroke-linecap:butt; stroke-linejoin:round; stroke-width:2; stroke-opacity:0.1; fill:none\" points=\"\n  229.228,1423.18 229.228,123.472 \n  \"/>\n<polyline clip-path=\"url(#clip762)\" style=\"stroke:#000000; stroke-linecap:butt; stroke-linejoin:round; stroke-width:2; stroke-opacity:0.1; fill:none\" points=\"\n  567.369,1423.18 567.369,123.472 \n  \"/>\n<polyline clip-path=\"url(#clip762)\" style=\"stroke:#000000; stroke-linecap:butt; stroke-linejoin:round; stroke-width:2; stroke-opacity:0.1; fill:none\" points=\"\n  905.511,1423.18 905.511,123.472 \n  \"/>\n<polyline clip-path=\"url(#clip762)\" style=\"stroke:#000000; stroke-linecap:butt; stroke-linejoin:round; stroke-width:2; stroke-opacity:0.1; fill:none\" points=\"\n  1243.65,1423.18 1243.65,123.472 \n  \"/>\n<polyline clip-path=\"url(#clip762)\" style=\"stroke:#000000; stroke-linecap:butt; stroke-linejoin:round; stroke-width:2; stroke-opacity:0.1; fill:none\" points=\"\n  1581.79,1423.18 1581.79,123.472 \n  \"/>\n<polyline clip-path=\"url(#clip762)\" style=\"stroke:#000000; stroke-linecap:butt; stroke-linejoin:round; stroke-width:2; stroke-opacity:0.1; fill:none\" points=\"\n  1919.93,1423.18 1919.93,123.472 \n  \"/>\n<polyline clip-path=\"url(#clip762)\" style=\"stroke:#000000; stroke-linecap:butt; stroke-linejoin:round; stroke-width:2; stroke-opacity:0.1; fill:none\" points=\"\n  2258.08,1423.18 2258.08,123.472 \n  \"/>\n<polyline clip-path=\"url(#clip760)\" style=\"stroke:#000000; stroke-linecap:butt; stroke-linejoin:round; stroke-width:4; stroke-opacity:1; fill:none\" points=\"\n  202.177,1423.18 2352.76,1423.18 \n  \"/>\n<polyline clip-path=\"url(#clip760)\" style=\"stroke:#000000; stroke-linecap:butt; stroke-linejoin:round; stroke-width:4; stroke-opacity:1; fill:none\" points=\"\n  229.228,1423.18 229.228,1404.28 \n  \"/>\n<polyline clip-path=\"url(#clip760)\" style=\"stroke:#000000; stroke-linecap:butt; stroke-linejoin:round; stroke-width:4; stroke-opacity:1; fill:none\" points=\"\n  567.369,1423.18 567.369,1404.28 \n  \"/>\n<polyline clip-path=\"url(#clip760)\" style=\"stroke:#000000; stroke-linecap:butt; stroke-linejoin:round; stroke-width:4; stroke-opacity:1; fill:none\" points=\"\n  905.511,1423.18 905.511,1404.28 \n  \"/>\n<polyline clip-path=\"url(#clip760)\" style=\"stroke:#000000; stroke-linecap:butt; stroke-linejoin:round; stroke-width:4; stroke-opacity:1; fill:none\" points=\"\n  1243.65,1423.18 1243.65,1404.28 \n  \"/>\n<polyline clip-path=\"url(#clip760)\" style=\"stroke:#000000; stroke-linecap:butt; stroke-linejoin:round; stroke-width:4; stroke-opacity:1; fill:none\" points=\"\n  1581.79,1423.18 1581.79,1404.28 \n  \"/>\n<polyline clip-path=\"url(#clip760)\" style=\"stroke:#000000; stroke-linecap:butt; stroke-linejoin:round; stroke-width:4; stroke-opacity:1; fill:none\" points=\"\n  1919.93,1423.18 1919.93,1404.28 \n  \"/>\n<polyline clip-path=\"url(#clip760)\" style=\"stroke:#000000; stroke-linecap:butt; stroke-linejoin:round; stroke-width:4; stroke-opacity:1; fill:none\" points=\"\n  2258.08,1423.18 2258.08,1404.28 \n  \"/>\n<path clip-path=\"url(#clip760)\" d=\"M229.228 1454.1 Q225.617 1454.1 223.788 1457.66 Q221.983 1461.2 221.983 1468.33 Q221.983 1475.44 223.788 1479.01 Q225.617 1482.55 229.228 1482.55 Q232.862 1482.55 234.668 1479.01 Q236.496 1475.44 236.496 1468.33 Q236.496 1461.2 234.668 1457.66 Q232.862 1454.1 229.228 1454.1 M229.228 1450.39 Q235.038 1450.39 238.094 1455 Q241.172 1459.58 241.172 1468.33 Q241.172 1477.06 238.094 1481.67 Q235.038 1486.25 229.228 1486.25 Q223.418 1486.25 220.339 1481.67 Q217.284 1477.06 217.284 1468.33 Q217.284 1459.58 220.339 1455 Q223.418 1450.39 229.228 1450.39 Z\" fill=\"#000000\" fill-rule=\"evenodd\" fill-opacity=\"1\" /><path clip-path=\"url(#clip760)\" d=\"M542.057 1481.64 L549.696 1481.64 L549.696 1455.28 L541.386 1456.95 L541.386 1452.69 L549.65 1451.02 L554.325 1451.02 L554.325 1481.64 L561.964 1481.64 L561.964 1485.58 L542.057 1485.58 L542.057 1481.64 Z\" fill=\"#000000\" fill-rule=\"evenodd\" fill-opacity=\"1\" /><path clip-path=\"url(#clip760)\" d=\"M581.409 1454.1 Q577.798 1454.1 575.969 1457.66 Q574.163 1461.2 574.163 1468.33 Q574.163 1475.44 575.969 1479.01 Q577.798 1482.55 581.409 1482.55 Q585.043 1482.55 586.848 1479.01 Q588.677 1475.44 588.677 1468.33 Q588.677 1461.2 586.848 1457.66 Q585.043 1454.1 581.409 1454.1 M581.409 1450.39 Q587.219 1450.39 590.274 1455 Q593.353 1459.58 593.353 1468.33 Q593.353 1477.06 590.274 1481.67 Q587.219 1486.25 581.409 1486.25 Q575.599 1486.25 572.52 1481.67 Q569.464 1477.06 569.464 1468.33 Q569.464 1459.58 572.52 1455 Q575.599 1450.39 581.409 1450.39 Z\" fill=\"#000000\" fill-rule=\"evenodd\" fill-opacity=\"1\" /><path clip-path=\"url(#clip760)\" d=\"M884.284 1481.64 L900.603 1481.64 L900.603 1485.58 L878.659 1485.58 L878.659 1481.64 Q881.321 1478.89 885.904 1474.26 Q890.511 1469.61 891.691 1468.27 Q893.937 1465.74 894.816 1464.01 Q895.719 1462.25 895.719 1460.56 Q895.719 1457.8 893.775 1456.07 Q891.853 1454.33 888.752 1454.33 Q886.553 1454.33 884.099 1455.09 Q881.668 1455.86 878.891 1457.41 L878.891 1452.69 Q881.715 1451.55 884.168 1450.97 Q886.622 1450.39 888.659 1450.39 Q894.029 1450.39 897.224 1453.08 Q900.418 1455.77 900.418 1460.26 Q900.418 1462.39 899.608 1464.31 Q898.821 1466.2 896.715 1468.8 Q896.136 1469.47 893.034 1472.69 Q889.932 1475.88 884.284 1481.64 Z\" fill=\"#000000\" fill-rule=\"evenodd\" fill-opacity=\"1\" /><path clip-path=\"url(#clip760)\" d=\"M920.418 1454.1 Q916.807 1454.1 914.978 1457.66 Q913.173 1461.2 913.173 1468.33 Q913.173 1475.44 914.978 1479.01 Q916.807 1482.55 920.418 1482.55 Q924.052 1482.55 925.858 1479.01 Q927.687 1475.44 927.687 1468.33 Q927.687 1461.2 925.858 1457.66 Q924.052 1454.1 920.418 1454.1 M920.418 1450.39 Q926.228 1450.39 929.284 1455 Q932.362 1459.58 932.362 1468.33 Q932.362 1477.06 929.284 1481.67 Q926.228 1486.25 920.418 1486.25 Q914.608 1486.25 911.529 1481.67 Q908.474 1477.06 908.474 1468.33 Q908.474 1459.58 911.529 1455 Q914.608 1450.39 920.418 1450.39 Z\" fill=\"#000000\" fill-rule=\"evenodd\" fill-opacity=\"1\" /><path clip-path=\"url(#clip760)\" d=\"M1232.49 1466.95 Q1235.85 1467.66 1237.73 1469.93 Q1239.62 1472.2 1239.62 1475.53 Q1239.62 1480.65 1236.11 1483.45 Q1232.59 1486.25 1226.11 1486.25 Q1223.93 1486.25 1221.62 1485.81 Q1219.32 1485.39 1216.87 1484.54 L1216.87 1480.02 Q1218.81 1481.16 1221.13 1481.74 Q1223.44 1482.32 1225.97 1482.32 Q1230.37 1482.32 1232.66 1480.58 Q1234.97 1478.84 1234.97 1475.53 Q1234.97 1472.48 1232.82 1470.77 Q1230.69 1469.03 1226.87 1469.03 L1222.84 1469.03 L1222.84 1465.19 L1227.06 1465.19 Q1230.5 1465.19 1232.33 1463.82 Q1234.16 1462.43 1234.16 1459.84 Q1234.16 1457.18 1232.26 1455.77 Q1230.39 1454.33 1226.87 1454.33 Q1224.95 1454.33 1222.75 1454.75 Q1220.55 1455.16 1217.91 1456.04 L1217.91 1451.88 Q1220.57 1451.14 1222.89 1450.77 Q1225.23 1450.39 1227.29 1450.39 Q1232.61 1450.39 1235.71 1452.83 Q1238.81 1455.23 1238.81 1459.35 Q1238.81 1462.22 1237.17 1464.21 Q1235.53 1466.18 1232.49 1466.95 Z\" fill=\"#000000\" fill-rule=\"evenodd\" fill-opacity=\"1\" /><path clip-path=\"url(#clip760)\" d=\"M1258.49 1454.1 Q1254.88 1454.1 1253.05 1457.66 Q1251.24 1461.2 1251.24 1468.33 Q1251.24 1475.44 1253.05 1479.01 Q1254.88 1482.55 1258.49 1482.55 Q1262.12 1482.55 1263.93 1479.01 Q1265.76 1475.44 1265.76 1468.33 Q1265.76 1461.2 1263.93 1457.66 Q1262.12 1454.1 1258.49 1454.1 M1258.49 1450.39 Q1264.3 1450.39 1267.36 1455 Q1270.43 1459.58 1270.43 1468.33 Q1270.43 1477.06 1267.36 1481.67 Q1264.3 1486.25 1258.49 1486.25 Q1252.68 1486.25 1249.6 1481.67 Q1246.55 1477.06 1246.55 1468.33 Q1246.55 1459.58 1249.6 1455 Q1252.68 1450.39 1258.49 1450.39 Z\" fill=\"#000000\" fill-rule=\"evenodd\" fill-opacity=\"1\" /><path clip-path=\"url(#clip760)\" d=\"M1569.96 1455.09 L1558.16 1473.54 L1569.96 1473.54 L1569.96 1455.09 M1568.74 1451.02 L1574.62 1451.02 L1574.62 1473.54 L1579.55 1473.54 L1579.55 1477.43 L1574.62 1477.43 L1574.62 1485.58 L1569.96 1485.58 L1569.96 1477.43 L1554.36 1477.43 L1554.36 1472.92 L1568.74 1451.02 Z\" fill=\"#000000\" fill-rule=\"evenodd\" fill-opacity=\"1\" /><path clip-path=\"url(#clip760)\" d=\"M1597.28 1454.1 Q1593.67 1454.1 1591.84 1457.66 Q1590.03 1461.2 1590.03 1468.33 Q1590.03 1475.44 1591.84 1479.01 Q1593.67 1482.55 1597.28 1482.55 Q1600.91 1482.55 1602.72 1479.01 Q1604.55 1475.44 1604.55 1468.33 Q1604.55 1461.2 1602.72 1457.66 Q1600.91 1454.1 1597.28 1454.1 M1597.28 1450.39 Q1603.09 1450.39 1606.15 1455 Q1609.22 1459.58 1609.22 1468.33 Q1609.22 1477.06 1606.15 1481.67 Q1603.09 1486.25 1597.28 1486.25 Q1591.47 1486.25 1588.39 1481.67 Q1585.34 1477.06 1585.34 1468.33 Q1585.34 1459.58 1588.39 1455 Q1591.47 1450.39 1597.28 1450.39 Z\" fill=\"#000000\" fill-rule=\"evenodd\" fill-opacity=\"1\" /><path clip-path=\"url(#clip760)\" d=\"M1894.63 1451.02 L1912.99 1451.02 L1912.99 1454.96 L1898.92 1454.96 L1898.92 1463.43 Q1899.94 1463.08 1900.95 1462.92 Q1901.97 1462.73 1902.99 1462.73 Q1908.78 1462.73 1912.16 1465.9 Q1915.54 1469.08 1915.54 1474.49 Q1915.54 1480.07 1912.06 1483.17 Q1908.59 1486.25 1902.27 1486.25 Q1900.1 1486.25 1897.83 1485.88 Q1895.58 1485.51 1893.18 1484.77 L1893.18 1480.07 Q1895.26 1481.2 1897.48 1481.76 Q1899.7 1482.32 1902.18 1482.32 Q1906.19 1482.32 1908.52 1480.21 Q1910.86 1478.1 1910.86 1474.49 Q1910.86 1470.88 1908.52 1468.77 Q1906.19 1466.67 1902.18 1466.67 Q1900.31 1466.67 1898.43 1467.08 Q1896.58 1467.5 1894.63 1468.38 L1894.63 1451.02 Z\" fill=\"#000000\" fill-rule=\"evenodd\" fill-opacity=\"1\" /><path clip-path=\"url(#clip760)\" d=\"M1934.75 1454.1 Q1931.14 1454.1 1929.31 1457.66 Q1927.5 1461.2 1927.5 1468.33 Q1927.5 1475.44 1929.31 1479.01 Q1931.14 1482.55 1934.75 1482.55 Q1938.38 1482.55 1940.19 1479.01 Q1942.02 1475.44 1942.02 1468.33 Q1942.02 1461.2 1940.19 1457.66 Q1938.38 1454.1 1934.75 1454.1 M1934.75 1450.39 Q1940.56 1450.39 1943.62 1455 Q1946.69 1459.58 1946.69 1468.33 Q1946.69 1477.06 1943.62 1481.67 Q1940.56 1486.25 1934.75 1486.25 Q1928.94 1486.25 1925.86 1481.67 Q1922.81 1477.06 1922.81 1468.33 Q1922.81 1459.58 1925.86 1455 Q1928.94 1450.39 1934.75 1450.39 Z\" fill=\"#000000\" fill-rule=\"evenodd\" fill-opacity=\"1\" /><path clip-path=\"url(#clip760)\" d=\"M2243.48 1466.44 Q2240.33 1466.44 2238.48 1468.59 Q2236.65 1470.74 2236.65 1474.49 Q2236.65 1478.22 2238.48 1480.39 Q2240.33 1482.55 2243.48 1482.55 Q2246.63 1482.55 2248.46 1480.39 Q2250.31 1478.22 2250.31 1474.49 Q2250.31 1470.74 2248.46 1468.59 Q2246.63 1466.44 2243.48 1466.44 M2252.76 1451.78 L2252.76 1456.04 Q2251 1455.21 2249.2 1454.77 Q2247.42 1454.33 2245.66 1454.33 Q2241.03 1454.33 2238.57 1457.45 Q2236.14 1460.58 2235.8 1466.9 Q2237.16 1464.89 2239.22 1463.82 Q2241.28 1462.73 2243.76 1462.73 Q2248.97 1462.73 2251.98 1465.9 Q2255.01 1469.05 2255.01 1474.49 Q2255.01 1479.82 2251.86 1483.03 Q2248.71 1486.25 2243.48 1486.25 Q2237.49 1486.25 2234.31 1481.67 Q2231.14 1477.06 2231.14 1468.33 Q2231.14 1460.14 2235.03 1455.28 Q2238.92 1450.39 2245.47 1450.39 Q2247.23 1450.39 2249.01 1450.74 Q2250.82 1451.09 2252.76 1451.78 Z\" fill=\"#000000\" fill-rule=\"evenodd\" fill-opacity=\"1\" /><path clip-path=\"url(#clip760)\" d=\"M2273.06 1454.1 Q2269.45 1454.1 2267.62 1457.66 Q2265.82 1461.2 2265.82 1468.33 Q2265.82 1475.44 2267.62 1479.01 Q2269.45 1482.55 2273.06 1482.55 Q2276.7 1482.55 2278.5 1479.01 Q2280.33 1475.44 2280.33 1468.33 Q2280.33 1461.2 2278.5 1457.66 Q2276.7 1454.1 2273.06 1454.1 M2273.06 1450.39 Q2278.87 1450.39 2281.93 1455 Q2285.01 1459.58 2285.01 1468.33 Q2285.01 1477.06 2281.93 1481.67 Q2278.87 1486.25 2273.06 1486.25 Q2267.25 1486.25 2264.18 1481.67 Q2261.12 1477.06 2261.12 1468.33 Q2261.12 1459.58 2264.18 1455 Q2267.25 1450.39 2273.06 1450.39 Z\" fill=\"#000000\" fill-rule=\"evenodd\" fill-opacity=\"1\" /><path clip-path=\"url(#clip760)\" d=\"M1276.53 1522.27 L1276.53 1532.4 L1288.59 1532.4 L1288.59 1536.95 L1276.53 1536.95 L1276.53 1556.3 Q1276.53 1560.66 1277.71 1561.9 Q1278.91 1563.14 1282.57 1563.14 L1288.59 1563.14 L1288.59 1568.04 L1282.57 1568.04 Q1275.8 1568.04 1273.22 1565.53 Q1270.64 1562.98 1270.64 1556.3 L1270.64 1536.95 L1266.34 1536.95 L1266.34 1532.4 L1270.64 1532.4 L1270.64 1522.27 L1276.53 1522.27 Z\" fill=\"#000000\" fill-rule=\"evenodd\" fill-opacity=\"1\" /><polyline clip-path=\"url(#clip762)\" style=\"stroke:#000000; stroke-linecap:butt; stroke-linejoin:round; stroke-width:2; stroke-opacity:0.1; fill:none\" points=\"\n  202.177,1286.98 2352.76,1286.98 \n  \"/>\n<polyline clip-path=\"url(#clip762)\" style=\"stroke:#000000; stroke-linecap:butt; stroke-linejoin:round; stroke-width:2; stroke-opacity:0.1; fill:none\" points=\"\n  202.177,1028.08 2352.76,1028.08 \n  \"/>\n<polyline clip-path=\"url(#clip762)\" style=\"stroke:#000000; stroke-linecap:butt; stroke-linejoin:round; stroke-width:2; stroke-opacity:0.1; fill:none\" points=\"\n  202.177,769.184 2352.76,769.184 \n  \"/>\n<polyline clip-path=\"url(#clip762)\" style=\"stroke:#000000; stroke-linecap:butt; stroke-linejoin:round; stroke-width:2; stroke-opacity:0.1; fill:none\" points=\"\n  202.177,510.286 2352.76,510.286 \n  \"/>\n<polyline clip-path=\"url(#clip762)\" style=\"stroke:#000000; stroke-linecap:butt; stroke-linejoin:round; stroke-width:2; stroke-opacity:0.1; fill:none\" points=\"\n  202.177,251.388 2352.76,251.388 \n  \"/>\n<polyline clip-path=\"url(#clip760)\" style=\"stroke:#000000; stroke-linecap:butt; stroke-linejoin:round; stroke-width:4; stroke-opacity:1; fill:none\" points=\"\n  202.177,1423.18 202.177,123.472 \n  \"/>\n<polyline clip-path=\"url(#clip760)\" style=\"stroke:#000000; stroke-linecap:butt; stroke-linejoin:round; stroke-width:4; stroke-opacity:1; fill:none\" points=\"\n  202.177,1286.98 221.074,1286.98 \n  \"/>\n<polyline clip-path=\"url(#clip760)\" style=\"stroke:#000000; stroke-linecap:butt; stroke-linejoin:round; stroke-width:4; stroke-opacity:1; fill:none\" points=\"\n  202.177,1028.08 221.074,1028.08 \n  \"/>\n<polyline clip-path=\"url(#clip760)\" style=\"stroke:#000000; stroke-linecap:butt; stroke-linejoin:round; stroke-width:4; stroke-opacity:1; fill:none\" points=\"\n  202.177,769.184 221.074,769.184 \n  \"/>\n<polyline clip-path=\"url(#clip760)\" style=\"stroke:#000000; stroke-linecap:butt; stroke-linejoin:round; stroke-width:4; stroke-opacity:1; fill:none\" points=\"\n  202.177,510.286 221.074,510.286 \n  \"/>\n<polyline clip-path=\"url(#clip760)\" style=\"stroke:#000000; stroke-linecap:butt; stroke-linejoin:round; stroke-width:4; stroke-opacity:1; fill:none\" points=\"\n  202.177,251.388 221.074,251.388 \n  \"/>\n<path clip-path=\"url(#clip760)\" d=\"M154.232 1272.78 Q150.621 1272.78 148.793 1276.34 Q146.987 1279.88 146.987 1287.01 Q146.987 1294.12 148.793 1297.68 Q150.621 1301.23 154.232 1301.23 Q157.867 1301.23 159.672 1297.68 Q161.501 1294.12 161.501 1287.01 Q161.501 1279.88 159.672 1276.34 Q157.867 1272.78 154.232 1272.78 M154.232 1269.07 Q160.042 1269.07 163.098 1273.68 Q166.177 1278.26 166.177 1287.01 Q166.177 1295.74 163.098 1300.35 Q160.042 1304.93 154.232 1304.93 Q148.422 1304.93 145.343 1300.35 Q142.288 1295.74 142.288 1287.01 Q142.288 1278.26 145.343 1273.68 Q148.422 1269.07 154.232 1269.07 Z\" fill=\"#000000\" fill-rule=\"evenodd\" fill-opacity=\"1\" /><path clip-path=\"url(#clip760)\" d=\"M54.5569 1041.43 L62.1958 1041.43 L62.1958 1015.06 L53.8856 1016.73 L53.8856 1012.47 L62.1495 1010.8 L66.8254 1010.8 L66.8254 1041.43 L74.4642 1041.43 L74.4642 1045.36 L54.5569 1045.36 L54.5569 1041.43 Z\" fill=\"#000000\" fill-rule=\"evenodd\" fill-opacity=\"1\" /><path clip-path=\"url(#clip760)\" d=\"M93.9086 1013.88 Q90.2975 1013.88 88.4688 1017.44 Q86.6632 1020.99 86.6632 1028.12 Q86.6632 1035.22 88.4688 1038.79 Q90.2975 1042.33 93.9086 1042.33 Q97.5428 1042.33 99.3483 1038.79 Q101.177 1035.22 101.177 1028.12 Q101.177 1020.99 99.3483 1017.44 Q97.5428 1013.88 93.9086 1013.88 M93.9086 1010.18 Q99.7187 1010.18 102.774 1014.78 Q105.853 1019.37 105.853 1028.12 Q105.853 1036.84 102.774 1041.45 Q99.7187 1046.03 93.9086 1046.03 Q88.0984 1046.03 85.0197 1041.45 Q81.9642 1036.84 81.9642 1028.12 Q81.9642 1019.37 85.0197 1014.78 Q88.0984 1010.18 93.9086 1010.18 Z\" fill=\"#000000\" fill-rule=\"evenodd\" fill-opacity=\"1\" /><path clip-path=\"url(#clip760)\" d=\"M124.07 1013.88 Q120.459 1013.88 118.631 1017.44 Q116.825 1020.99 116.825 1028.12 Q116.825 1035.22 118.631 1038.79 Q120.459 1042.33 124.07 1042.33 Q127.705 1042.33 129.51 1038.79 Q131.339 1035.22 131.339 1028.12 Q131.339 1020.99 129.51 1017.44 Q127.705 1013.88 124.07 1013.88 M124.07 1010.18 Q129.881 1010.18 132.936 1014.78 Q136.015 1019.37 136.015 1028.12 Q136.015 1036.84 132.936 1041.45 Q129.881 1046.03 124.07 1046.03 Q118.26 1046.03 115.182 1041.45 Q112.126 1036.84 112.126 1028.12 Q112.126 1019.37 115.182 1014.78 Q118.26 1010.18 124.07 1010.18 Z\" fill=\"#000000\" fill-rule=\"evenodd\" fill-opacity=\"1\" /><path clip-path=\"url(#clip760)\" d=\"M154.232 1013.88 Q150.621 1013.88 148.793 1017.44 Q146.987 1020.99 146.987 1028.12 Q146.987 1035.22 148.793 1038.79 Q150.621 1042.33 154.232 1042.33 Q157.867 1042.33 159.672 1038.79 Q161.501 1035.22 161.501 1028.12 Q161.501 1020.99 159.672 1017.44 Q157.867 1013.88 154.232 1013.88 M154.232 1010.18 Q160.042 1010.18 163.098 1014.78 Q166.177 1019.37 166.177 1028.12 Q166.177 1036.84 163.098 1041.45 Q160.042 1046.03 154.232 1046.03 Q148.422 1046.03 145.343 1041.45 Q142.288 1036.84 142.288 1028.12 Q142.288 1019.37 145.343 1014.78 Q148.422 1010.18 154.232 1010.18 Z\" fill=\"#000000\" fill-rule=\"evenodd\" fill-opacity=\"1\" /><path clip-path=\"url(#clip760)\" d=\"M57.7745 782.528 L74.0939 782.528 L74.0939 786.464 L52.1495 786.464 L52.1495 782.528 Q54.8115 779.774 59.3949 775.144 Q64.0013 770.491 65.1819 769.149 Q67.4272 766.626 68.3068 764.89 Q69.2096 763.13 69.2096 761.441 Q69.2096 758.686 67.2652 756.95 Q65.3439 755.214 62.2421 755.214 Q60.043 755.214 57.5893 755.978 Q55.1588 756.742 52.381 758.292 L52.381 753.57 Q55.2051 752.436 57.6588 751.857 Q60.1124 751.279 62.1495 751.279 Q67.5198 751.279 70.7142 753.964 Q73.9087 756.649 73.9087 761.14 Q73.9087 763.269 73.0985 765.191 Q72.3115 767.089 70.205 769.681 Q69.6263 770.353 66.5245 773.57 Q63.4226 776.765 57.7745 782.528 Z\" fill=\"#000000\" fill-rule=\"evenodd\" fill-opacity=\"1\" /><path clip-path=\"url(#clip760)\" d=\"M93.9086 754.982 Q90.2975 754.982 88.4688 758.547 Q86.6632 762.089 86.6632 769.218 Q86.6632 776.325 88.4688 779.89 Q90.2975 783.431 93.9086 783.431 Q97.5428 783.431 99.3483 779.89 Q101.177 776.325 101.177 769.218 Q101.177 762.089 99.3483 758.547 Q97.5428 754.982 93.9086 754.982 M93.9086 751.279 Q99.7187 751.279 102.774 755.885 Q105.853 760.468 105.853 769.218 Q105.853 777.945 102.774 782.552 Q99.7187 787.135 93.9086 787.135 Q88.0984 787.135 85.0197 782.552 Q81.9642 777.945 81.9642 769.218 Q81.9642 760.468 85.0197 755.885 Q88.0984 751.279 93.9086 751.279 Z\" fill=\"#000000\" fill-rule=\"evenodd\" fill-opacity=\"1\" /><path clip-path=\"url(#clip760)\" d=\"M124.07 754.982 Q120.459 754.982 118.631 758.547 Q116.825 762.089 116.825 769.218 Q116.825 776.325 118.631 779.89 Q120.459 783.431 124.07 783.431 Q127.705 783.431 129.51 779.89 Q131.339 776.325 131.339 769.218 Q131.339 762.089 129.51 758.547 Q127.705 754.982 124.07 754.982 M124.07 751.279 Q129.881 751.279 132.936 755.885 Q136.015 760.468 136.015 769.218 Q136.015 777.945 132.936 782.552 Q129.881 787.135 124.07 787.135 Q118.26 787.135 115.182 782.552 Q112.126 777.945 112.126 769.218 Q112.126 760.468 115.182 755.885 Q118.26 751.279 124.07 751.279 Z\" fill=\"#000000\" fill-rule=\"evenodd\" fill-opacity=\"1\" /><path clip-path=\"url(#clip760)\" d=\"M154.232 754.982 Q150.621 754.982 148.793 758.547 Q146.987 762.089 146.987 769.218 Q146.987 776.325 148.793 779.89 Q150.621 783.431 154.232 783.431 Q157.867 783.431 159.672 779.89 Q161.501 776.325 161.501 769.218 Q161.501 762.089 159.672 758.547 Q157.867 754.982 154.232 754.982 M154.232 751.279 Q160.042 751.279 163.098 755.885 Q166.177 760.468 166.177 769.218 Q166.177 777.945 163.098 782.552 Q160.042 787.135 154.232 787.135 Q148.422 787.135 145.343 782.552 Q142.288 777.945 142.288 769.218 Q142.288 760.468 145.343 755.885 Q148.422 751.279 154.232 751.279 Z\" fill=\"#000000\" fill-rule=\"evenodd\" fill-opacity=\"1\" /><path clip-path=\"url(#clip760)\" d=\"M67.9133 508.932 Q71.2698 509.649 73.1448 511.918 Q75.0429 514.186 75.0429 517.52 Q75.0429 522.635 71.5244 525.436 Q68.0059 528.237 61.5245 528.237 Q59.3486 528.237 57.0338 527.797 Q54.7421 527.381 52.2884 526.524 L52.2884 522.01 Q54.2328 523.145 56.5477 523.723 Q58.8625 524.302 61.3856 524.302 Q65.7837 524.302 68.0754 522.566 Q70.3902 520.83 70.3902 517.52 Q70.3902 514.464 68.2374 512.751 Q66.1078 511.015 62.2884 511.015 L58.2606 511.015 L58.2606 507.173 L62.4735 507.173 Q65.9226 507.173 67.7513 505.807 Q69.58 504.418 69.58 501.825 Q69.58 499.163 67.6819 497.751 Q65.8069 496.316 62.2884 496.316 Q60.3671 496.316 58.168 496.733 Q55.969 497.149 53.3301 498.029 L53.3301 493.862 Q55.9921 493.122 58.3069 492.751 Q60.6449 492.381 62.705 492.381 Q68.0291 492.381 71.1309 494.811 Q74.2327 497.219 74.2327 501.339 Q74.2327 504.21 72.5892 506.2 Q70.9457 508.168 67.9133 508.932 Z\" fill=\"#000000\" fill-rule=\"evenodd\" fill-opacity=\"1\" /><path clip-path=\"url(#clip760)\" d=\"M93.9086 496.085 Q90.2975 496.085 88.4688 499.649 Q86.6632 503.191 86.6632 510.321 Q86.6632 517.427 88.4688 520.992 Q90.2975 524.534 93.9086 524.534 Q97.5428 524.534 99.3483 520.992 Q101.177 517.427 101.177 510.321 Q101.177 503.191 99.3483 499.649 Q97.5428 496.085 93.9086 496.085 M93.9086 492.381 Q99.7187 492.381 102.774 496.987 Q105.853 501.571 105.853 510.321 Q105.853 519.047 102.774 523.654 Q99.7187 528.237 93.9086 528.237 Q88.0984 528.237 85.0197 523.654 Q81.9642 519.047 81.9642 510.321 Q81.9642 501.571 85.0197 496.987 Q88.0984 492.381 93.9086 492.381 Z\" fill=\"#000000\" fill-rule=\"evenodd\" fill-opacity=\"1\" /><path clip-path=\"url(#clip760)\" d=\"M124.07 496.085 Q120.459 496.085 118.631 499.649 Q116.825 503.191 116.825 510.321 Q116.825 517.427 118.631 520.992 Q120.459 524.534 124.07 524.534 Q127.705 524.534 129.51 520.992 Q131.339 517.427 131.339 510.321 Q131.339 503.191 129.51 499.649 Q127.705 496.085 124.07 496.085 M124.07 492.381 Q129.881 492.381 132.936 496.987 Q136.015 501.571 136.015 510.321 Q136.015 519.047 132.936 523.654 Q129.881 528.237 124.07 528.237 Q118.26 528.237 115.182 523.654 Q112.126 519.047 112.126 510.321 Q112.126 501.571 115.182 496.987 Q118.26 492.381 124.07 492.381 Z\" fill=\"#000000\" fill-rule=\"evenodd\" fill-opacity=\"1\" /><path clip-path=\"url(#clip760)\" d=\"M154.232 496.085 Q150.621 496.085 148.793 499.649 Q146.987 503.191 146.987 510.321 Q146.987 517.427 148.793 520.992 Q150.621 524.534 154.232 524.534 Q157.867 524.534 159.672 520.992 Q161.501 517.427 161.501 510.321 Q161.501 503.191 159.672 499.649 Q157.867 496.085 154.232 496.085 M154.232 492.381 Q160.042 492.381 163.098 496.987 Q166.177 501.571 166.177 510.321 Q166.177 519.047 163.098 523.654 Q160.042 528.237 154.232 528.237 Q148.422 528.237 145.343 523.654 Q142.288 519.047 142.288 510.321 Q142.288 501.571 145.343 496.987 Q148.422 492.381 154.232 492.381 Z\" fill=\"#000000\" fill-rule=\"evenodd\" fill-opacity=\"1\" /><path clip-path=\"url(#clip760)\" d=\"M66.5939 238.182 L54.7884 256.631 L66.5939 256.631 L66.5939 238.182 M65.367 234.108 L71.2466 234.108 L71.2466 256.631 L76.1772 256.631 L76.1772 260.52 L71.2466 260.52 L71.2466 268.668 L66.5939 268.668 L66.5939 260.52 L50.9921 260.52 L50.9921 256.006 L65.367 234.108 Z\" fill=\"#000000\" fill-rule=\"evenodd\" fill-opacity=\"1\" /><path clip-path=\"url(#clip760)\" d=\"M93.9086 237.187 Q90.2975 237.187 88.4688 240.752 Q86.6632 244.293 86.6632 251.423 Q86.6632 258.529 88.4688 262.094 Q90.2975 265.636 93.9086 265.636 Q97.5428 265.636 99.3483 262.094 Q101.177 258.529 101.177 251.423 Q101.177 244.293 99.3483 240.752 Q97.5428 237.187 93.9086 237.187 M93.9086 233.483 Q99.7187 233.483 102.774 238.09 Q105.853 242.673 105.853 251.423 Q105.853 260.15 102.774 264.756 Q99.7187 269.34 93.9086 269.34 Q88.0984 269.34 85.0197 264.756 Q81.9642 260.15 81.9642 251.423 Q81.9642 242.673 85.0197 238.09 Q88.0984 233.483 93.9086 233.483 Z\" fill=\"#000000\" fill-rule=\"evenodd\" fill-opacity=\"1\" /><path clip-path=\"url(#clip760)\" d=\"M124.07 237.187 Q120.459 237.187 118.631 240.752 Q116.825 244.293 116.825 251.423 Q116.825 258.529 118.631 262.094 Q120.459 265.636 124.07 265.636 Q127.705 265.636 129.51 262.094 Q131.339 258.529 131.339 251.423 Q131.339 244.293 129.51 240.752 Q127.705 237.187 124.07 237.187 M124.07 233.483 Q129.881 233.483 132.936 238.09 Q136.015 242.673 136.015 251.423 Q136.015 260.15 132.936 264.756 Q129.881 269.34 124.07 269.34 Q118.26 269.34 115.182 264.756 Q112.126 260.15 112.126 251.423 Q112.126 242.673 115.182 238.09 Q118.26 233.483 124.07 233.483 Z\" fill=\"#000000\" fill-rule=\"evenodd\" fill-opacity=\"1\" /><path clip-path=\"url(#clip760)\" d=\"M154.232 237.187 Q150.621 237.187 148.793 240.752 Q146.987 244.293 146.987 251.423 Q146.987 258.529 148.793 262.094 Q150.621 265.636 154.232 265.636 Q157.867 265.636 159.672 262.094 Q161.501 258.529 161.501 251.423 Q161.501 244.293 159.672 240.752 Q157.867 237.187 154.232 237.187 M154.232 233.483 Q160.042 233.483 163.098 238.09 Q166.177 242.673 166.177 251.423 Q166.177 260.15 163.098 264.756 Q160.042 269.34 154.232 269.34 Q148.422 269.34 145.343 264.756 Q142.288 260.15 142.288 251.423 Q142.288 242.673 145.343 238.09 Q148.422 233.483 154.232 233.483 Z\" fill=\"#000000\" fill-rule=\"evenodd\" fill-opacity=\"1\" /><path clip-path=\"url(#clip760)\" d=\"M891.294 12.096 L926.05 12.096 L926.05 18.9825 L899.476 18.9825 L899.476 36.8065 L923.458 36.8065 L923.458 43.6931 L899.476 43.6931 L899.476 72.576 L891.294 72.576 L891.294 12.096 Z\" fill=\"#000000\" fill-rule=\"evenodd\" fill-opacity=\"1\" /><path clip-path=\"url(#clip760)\" d=\"M958.944 34.1734 Q957.688 33.4443 956.189 33.1202 Q954.731 32.7556 952.948 32.7556 Q946.629 32.7556 943.226 36.8875 Q939.864 40.9789 939.864 48.6757 L939.864 72.576 L932.37 72.576 L932.37 27.2059 L939.864 27.2059 L939.864 34.2544 Q942.213 30.1225 945.981 28.1376 Q949.748 26.1121 955.136 26.1121 Q955.906 26.1121 956.837 26.2337 Q957.769 26.3147 958.903 26.5172 L958.944 34.1734 Z\" fill=\"#000000\" fill-rule=\"evenodd\" fill-opacity=\"1\" /><path clip-path=\"url(#clip760)\" d=\"M982.52 32.4315 Q976.525 32.4315 973.041 37.1306 Q969.557 41.7891 969.557 49.9314 Q969.557 58.0738 973 62.7728 Q976.484 67.4314 982.52 67.4314 Q988.475 67.4314 991.959 62.7323 Q995.442 58.0333 995.442 49.9314 Q995.442 41.8701 991.959 37.1711 Q988.475 32.4315 982.52 32.4315 M982.52 26.1121 Q992.242 26.1121 997.792 32.4315 Q1003.34 38.7509 1003.34 49.9314 Q1003.34 61.0714 997.792 67.4314 Q992.242 73.7508 982.52 73.7508 Q972.757 73.7508 967.208 67.4314 Q961.698 61.0714 961.698 49.9314 Q961.698 38.7509 967.208 32.4315 Q972.757 26.1121 982.52 26.1121 Z\" fill=\"#000000\" fill-rule=\"evenodd\" fill-opacity=\"1\" /><path clip-path=\"url(#clip760)\" d=\"M1051.02 35.9153 Q1053.82 30.8922 1057.7 28.5022 Q1061.59 26.1121 1066.86 26.1121 Q1073.95 26.1121 1077.8 31.0947 Q1081.65 36.0368 1081.65 45.1919 L1081.65 72.576 L1074.15 72.576 L1074.15 45.4349 Q1074.15 38.913 1071.84 35.7533 Q1069.53 32.5936 1064.79 32.5936 Q1059 32.5936 1055.64 36.4419 Q1052.28 40.2903 1052.28 46.9338 L1052.28 72.576 L1044.78 72.576 L1044.78 45.4349 Q1044.78 38.8725 1042.47 35.7533 Q1040.16 32.5936 1035.34 32.5936 Q1029.63 32.5936 1026.27 36.4824 Q1022.91 40.3308 1022.91 46.9338 L1022.91 72.576 L1015.41 72.576 L1015.41 27.2059 L1022.91 27.2059 L1022.91 34.2544 Q1025.46 30.082 1029.02 28.0971 Q1032.59 26.1121 1037.49 26.1121 Q1042.43 26.1121 1045.88 28.6237 Q1049.36 31.1352 1051.02 35.9153 Z\" fill=\"#000000\" fill-rule=\"evenodd\" fill-opacity=\"1\" /><path clip-path=\"url(#clip760)\" d=\"M1130.26 14.324 L1130.26 27.2059 L1145.61 27.2059 L1145.61 32.9987 L1130.26 32.9987 L1130.26 57.6282 Q1130.26 63.1779 1131.76 64.7578 Q1133.29 66.3376 1137.95 66.3376 L1145.61 66.3376 L1145.61 72.576 L1137.95 72.576 Q1129.32 72.576 1126.04 69.3758 Q1122.76 66.1351 1122.76 57.6282 L1122.76 32.9987 L1117.29 32.9987 L1117.29 27.2059 L1122.76 27.2059 L1122.76 14.324 L1130.26 14.324 Z\" fill=\"#000000\" fill-rule=\"evenodd\" fill-opacity=\"1\" /><path clip-path=\"url(#clip760)\" d=\"M1193.13 45.1919 L1193.13 72.576 L1185.67 72.576 L1185.67 45.4349 Q1185.67 38.994 1183.16 35.7938 Q1180.65 32.5936 1175.63 32.5936 Q1169.59 32.5936 1166.11 36.4419 Q1162.62 40.2903 1162.62 46.9338 L1162.62 72.576 L1155.13 72.576 L1155.13 9.54393 L1162.62 9.54393 L1162.62 34.2544 Q1165.3 30.163 1168.9 28.1376 Q1172.55 26.1121 1177.29 26.1121 Q1185.11 26.1121 1189.12 30.9732 Q1193.13 35.7938 1193.13 45.1919 Z\" fill=\"#000000\" fill-rule=\"evenodd\" fill-opacity=\"1\" /><path clip-path=\"url(#clip760)\" d=\"M1246.8 48.0275 L1246.8 51.6733 L1212.53 51.6733 Q1213.02 59.3701 1217.15 63.421 Q1221.32 67.4314 1228.73 67.4314 Q1233.03 67.4314 1237.04 66.3781 Q1241.09 65.3249 1245.06 63.2184 L1245.06 70.267 Q1241.05 71.9684 1236.84 72.8596 Q1232.62 73.7508 1228.29 73.7508 Q1217.43 73.7508 1211.07 67.4314 Q1204.75 61.1119 1204.75 50.3365 Q1204.75 39.1965 1210.75 32.6746 Q1216.78 26.1121 1226.99 26.1121 Q1236.15 26.1121 1241.45 32.0264 Q1246.8 37.9003 1246.8 48.0275 M1239.35 45.84 Q1239.27 39.7232 1235.9 36.0774 Q1232.58 32.4315 1227.07 32.4315 Q1220.83 32.4315 1217.07 35.9558 Q1213.34 39.4801 1212.77 45.8805 L1239.35 45.84 Z\" fill=\"#000000\" fill-rule=\"evenodd\" fill-opacity=\"1\" /><path clip-path=\"url(#clip760)\" d=\"M1311.7 34.1734 Q1310.44 33.4443 1308.94 33.1202 Q1307.48 32.7556 1305.7 32.7556 Q1299.38 32.7556 1295.98 36.8875 Q1292.62 40.9789 1292.62 48.6757 L1292.62 72.576 L1285.12 72.576 L1285.12 27.2059 L1292.62 27.2059 L1292.62 34.2544 Q1294.97 30.1225 1298.73 28.1376 Q1302.5 26.1121 1307.89 26.1121 Q1308.66 26.1121 1309.59 26.2337 Q1310.52 26.3147 1311.66 26.5172 L1311.7 34.1734 Z\" fill=\"#000000\" fill-rule=\"evenodd\" fill-opacity=\"1\" /><path clip-path=\"url(#clip760)\" d=\"M1356.5 48.0275 L1356.5 51.6733 L1322.23 51.6733 Q1322.71 59.3701 1326.85 63.421 Q1331.02 67.4314 1338.43 67.4314 Q1342.73 67.4314 1346.74 66.3781 Q1350.79 65.3249 1354.76 63.2184 L1354.76 70.267 Q1350.75 71.9684 1346.53 72.8596 Q1342.32 73.7508 1337.99 73.7508 Q1327.13 73.7508 1320.77 67.4314 Q1314.45 61.1119 1314.45 50.3365 Q1314.45 39.1965 1320.45 32.6746 Q1326.48 26.1121 1336.69 26.1121 Q1345.85 26.1121 1351.15 32.0264 Q1356.5 37.9003 1356.5 48.0275 M1349.05 45.84 Q1348.96 39.7232 1345.6 36.0774 Q1342.28 32.4315 1336.77 32.4315 Q1330.53 32.4315 1326.77 35.9558 Q1323.04 39.4801 1322.47 45.8805 L1349.05 45.84 Z\" fill=\"#000000\" fill-rule=\"evenodd\" fill-opacity=\"1\" /><path clip-path=\"url(#clip760)\" d=\"M1398.59 34.0924 L1398.59 9.54393 L1406.04 9.54393 L1406.04 72.576 L1398.59 72.576 L1398.59 65.7705 Q1396.24 69.8214 1392.63 71.8063 Q1389.07 73.7508 1384.05 73.7508 Q1375.82 73.7508 1370.64 67.1883 Q1365.49 60.6258 1365.49 49.9314 Q1365.49 39.2371 1370.64 32.6746 Q1375.82 26.1121 1384.05 26.1121 Q1389.07 26.1121 1392.63 28.0971 Q1396.24 30.0415 1398.59 34.0924 M1373.19 49.9314 Q1373.19 58.1548 1376.55 62.8538 Q1379.95 67.5124 1385.87 67.5124 Q1391.78 67.5124 1395.19 62.8538 Q1398.59 58.1548 1398.59 49.9314 Q1398.59 41.7081 1395.19 37.0496 Q1391.78 32.3505 1385.87 32.3505 Q1379.95 32.3505 1376.55 37.0496 Q1373.19 41.7081 1373.19 49.9314 Z\" fill=\"#000000\" fill-rule=\"evenodd\" fill-opacity=\"1\" /><path clip-path=\"url(#clip760)\" d=\"M1420.63 54.671 L1420.63 27.2059 L1428.08 27.2059 L1428.08 54.3874 Q1428.08 60.8284 1430.59 64.0691 Q1433.1 67.2693 1438.13 67.2693 Q1444.16 67.2693 1447.64 63.421 Q1451.17 59.5726 1451.17 52.9291 L1451.17 27.2059 L1458.62 27.2059 L1458.62 72.576 L1451.17 72.576 L1451.17 65.6084 Q1448.45 69.7404 1444.85 71.7658 Q1441.28 73.7508 1436.55 73.7508 Q1428.73 73.7508 1424.68 68.8897 Q1420.63 64.0286 1420.63 54.671 M1439.38 26.1121 L1439.38 26.1121 Z\" fill=\"#000000\" fill-rule=\"evenodd\" fill-opacity=\"1\" /><path clip-path=\"url(#clip760)\" d=\"M1506.63 28.9478 L1506.63 35.9153 Q1503.47 34.1734 1500.27 33.3227 Q1497.11 32.4315 1493.87 32.4315 Q1486.61 32.4315 1482.6 37.0496 Q1478.59 41.6271 1478.59 49.9314 Q1478.59 58.2358 1482.6 62.8538 Q1486.61 67.4314 1493.87 67.4314 Q1497.11 67.4314 1500.27 66.5807 Q1503.47 65.6895 1506.63 63.9476 L1506.63 70.8341 Q1503.51 72.2924 1500.14 73.0216 Q1496.82 73.7508 1493.06 73.7508 Q1482.81 73.7508 1476.77 67.3098 Q1470.73 60.8689 1470.73 49.9314 Q1470.73 38.832 1476.81 32.472 Q1482.93 26.1121 1493.54 26.1121 Q1496.98 26.1121 1500.27 26.8413 Q1503.55 27.5299 1506.63 28.9478 Z\" fill=\"#000000\" fill-rule=\"evenodd\" fill-opacity=\"1\" /><path clip-path=\"url(#clip760)\" d=\"M1526.96 14.324 L1526.96 27.2059 L1542.31 27.2059 L1542.31 32.9987 L1526.96 32.9987 L1526.96 57.6282 Q1526.96 63.1779 1528.46 64.7578 Q1530 66.3376 1534.66 66.3376 L1542.31 66.3376 L1542.31 72.576 L1534.66 72.576 Q1526.03 72.576 1522.75 69.3758 Q1519.47 66.1351 1519.47 57.6282 L1519.47 32.9987 L1514 32.9987 L1514 27.2059 L1519.47 27.2059 L1519.47 14.324 L1526.96 14.324 Z\" fill=\"#000000\" fill-rule=\"evenodd\" fill-opacity=\"1\" /><path clip-path=\"url(#clip760)\" d=\"M1552.12 27.2059 L1559.57 27.2059 L1559.57 72.576 L1552.12 72.576 L1552.12 27.2059 M1552.12 9.54393 L1559.57 9.54393 L1559.57 18.9825 L1552.12 18.9825 L1552.12 9.54393 Z\" fill=\"#000000\" fill-rule=\"evenodd\" fill-opacity=\"1\" /><path clip-path=\"url(#clip760)\" d=\"M1592.75 32.4315 Q1586.75 32.4315 1583.27 37.1306 Q1579.79 41.7891 1579.79 49.9314 Q1579.79 58.0738 1583.23 62.7728 Q1586.71 67.4314 1592.75 67.4314 Q1598.7 67.4314 1602.19 62.7323 Q1605.67 58.0333 1605.67 49.9314 Q1605.67 41.8701 1602.19 37.1711 Q1598.7 32.4315 1592.75 32.4315 M1592.75 26.1121 Q1602.47 26.1121 1608.02 32.4315 Q1613.57 38.7509 1613.57 49.9314 Q1613.57 61.0714 1608.02 67.4314 Q1602.47 73.7508 1592.75 73.7508 Q1582.99 73.7508 1577.44 67.4314 Q1571.93 61.0714 1571.93 49.9314 Q1571.93 38.7509 1577.44 32.4315 Q1582.99 26.1121 1592.75 26.1121 Z\" fill=\"#000000\" fill-rule=\"evenodd\" fill-opacity=\"1\" /><path clip-path=\"url(#clip760)\" d=\"M1663.64 45.1919 L1663.64 72.576 L1656.19 72.576 L1656.19 45.4349 Q1656.19 38.994 1653.67 35.7938 Q1651.16 32.5936 1646.14 32.5936 Q1640.1 32.5936 1636.62 36.4419 Q1633.14 40.2903 1633.14 46.9338 L1633.14 72.576 L1625.64 72.576 L1625.64 27.2059 L1633.14 27.2059 L1633.14 34.2544 Q1635.81 30.163 1639.41 28.1376 Q1643.06 26.1121 1647.8 26.1121 Q1655.62 26.1121 1659.63 30.9732 Q1663.64 35.7938 1663.64 45.1919 Z\" fill=\"#000000\" fill-rule=\"evenodd\" fill-opacity=\"1\" /><polyline clip-path=\"url(#clip762)\" style=\"stroke:#009af9; stroke-linecap:butt; stroke-linejoin:round; stroke-width:4; stroke-opacity:1; fill:none\" points=\"\n  263.042,1306.07 296.856,1306.67 \n  \"/>\n<polyline clip-path=\"url(#clip762)\" style=\"stroke:#e26f46; stroke-linecap:butt; stroke-linejoin:round; stroke-width:4; stroke-opacity:1; fill:none\" points=\"\n  263.042,1306.07 296.856,1306.07 330.67,1306.07 364.485,1306.07 398.299,1306.07 432.113,1306.07 465.927,1306.07 499.741,1306.07 533.555,1306.07 567.369,1306.08 \n  601.184,1306.08 634.998,1306.09 668.812,1306.09 702.626,1306.1 736.44,1306.11 770.254,1306.12 804.068,1306.12 837.882,1306.13 871.697,1306.14 905.511,1306.15 \n  939.325,1306.16 973.139,1306.18 1006.95,1306.19 1040.77,1306.2 1074.58,1306.21 1108.4,1306.22 1142.21,1306.23 1176.02,1306.24 1209.84,1306.25 1243.65,1306.27 \n  1277.47,1306.28 1311.28,1306.29 1345.09,1306.3 1378.91,1306.31 1412.72,1306.32 1446.54,1306.33 1480.35,1306.35 1514.17,1306.36 1547.98,1306.37 1581.79,1306.38 \n  1615.61,1306.39 1649.42,1306.4 1683.24,1306.41 1717.05,1306.42 1750.86,1306.43 1784.68,1306.44 1818.49,1306.45 1852.31,1306.46 1886.12,1306.48 1919.93,1306.49 \n  1953.75,1306.5 1987.56,1306.47 2021.38,1306.4 2055.19,1306.2 2089.01,1306.66 2122.82,1280.25 2156.63,1307.69 2190.45,1386.4 2224.26,905.882 2258.08,160.256 \n  2291.89,491.645 \n  \"/>\n<path clip-path=\"url(#clip760)\" d=\"\nM1789.11 322.316 L2281.07 322.316 L2281.07 166.796 L1789.11 166.796  Z\n  \" fill=\"#ffffff\" fill-rule=\"evenodd\" fill-opacity=\"1\"/>\n<polyline clip-path=\"url(#clip760)\" style=\"stroke:#000000; stroke-linecap:butt; stroke-linejoin:round; stroke-width:4; stroke-opacity:1; fill:none\" points=\"\n  1789.11,322.316 2281.07,322.316 2281.07,166.796 1789.11,166.796 1789.11,322.316 \n  \"/>\n<polyline clip-path=\"url(#clip760)\" style=\"stroke:#009af9; stroke-linecap:butt; stroke-linejoin:round; stroke-width:4; stroke-opacity:1; fill:none\" points=\"\n  1813,218.636 1956.38,218.636 \n  \"/>\n<path clip-path=\"url(#clip760)\" d=\"M1994.11 238.323 Q1992.31 242.953 1990.6 244.365 Q1988.88 245.777 1986.01 245.777 L1982.61 245.777 L1982.61 242.212 L1985.11 242.212 Q1986.87 242.212 1987.84 241.379 Q1988.81 240.545 1989.99 237.443 L1990.76 235.499 L1980.27 209.99 L1984.79 209.99 L1992.89 230.268 L2000.99 209.99 L2005.5 209.99 L1994.11 238.323 Z\" fill=\"#000000\" fill-rule=\"evenodd\" fill-opacity=\"1\" /><path clip-path=\"url(#clip760)\" d=\"M2012.79 231.981 L2020.43 231.981 L2020.43 205.615 L2012.12 207.282 L2012.12 203.022 L2020.39 201.356 L2025.06 201.356 L2025.06 231.981 L2032.7 231.981 L2032.7 235.916 L2012.79 235.916 L2012.79 231.981 Z\" fill=\"#000000\" fill-rule=\"evenodd\" fill-opacity=\"1\" /><polyline clip-path=\"url(#clip760)\" style=\"stroke:#e26f46; stroke-linecap:butt; stroke-linejoin:round; stroke-width:4; stroke-opacity:1; fill:none\" points=\"\n  1813,270.476 1956.38,270.476 \n  \"/>\n<path clip-path=\"url(#clip760)\" d=\"M1994.11 290.163 Q1992.31 294.793 1990.6 296.205 Q1988.88 297.617 1986.01 297.617 L1982.61 297.617 L1982.61 294.052 L1985.11 294.052 Q1986.87 294.052 1987.84 293.219 Q1988.81 292.385 1989.99 289.283 L1990.76 287.339 L1980.27 261.83 L1984.79 261.83 L1992.89 282.108 L2000.99 261.83 L2005.5 261.83 L1994.11 290.163 Z\" fill=\"#000000\" fill-rule=\"evenodd\" fill-opacity=\"1\" /><path clip-path=\"url(#clip760)\" d=\"M2012.79 283.821 L2020.43 283.821 L2020.43 257.455 L2012.12 259.122 L2012.12 254.862 L2020.39 253.196 L2025.06 253.196 L2025.06 283.821 L2032.7 283.821 L2032.7 287.756 L2012.79 287.756 L2012.79 283.821 Z\" fill=\"#000000\" fill-rule=\"evenodd\" fill-opacity=\"1\" /><path clip-path=\"url(#clip760)\" d=\"M2056.61 261.83 L2060.87 261.83 L2060.87 287.756 L2056.61 287.756 L2056.61 261.83 M2056.61 251.737 L2060.87 251.737 L2060.87 257.131 L2056.61 257.131 L2056.61 251.737 Z\" fill=\"#000000\" fill-rule=\"evenodd\" fill-opacity=\"1\" /><path clip-path=\"url(#clip760)\" d=\"M2091.34 272.108 L2091.34 287.756 L2087.08 287.756 L2087.08 272.247 Q2087.08 268.566 2085.64 266.737 Q2084.21 264.909 2081.34 264.909 Q2077.89 264.909 2075.9 267.108 Q2073.91 269.307 2073.91 273.103 L2073.91 287.756 L2069.62 287.756 L2069.62 261.83 L2073.91 261.83 L2073.91 265.858 Q2075.43 263.52 2077.49 262.362 Q2079.58 261.205 2082.28 261.205 Q2086.75 261.205 2089.04 263.983 Q2091.34 266.737 2091.34 272.108 Z\" fill=\"#000000\" fill-rule=\"evenodd\" fill-opacity=\"1\" /><path clip-path=\"url(#clip760)\" d=\"M2112.96 251.737 L2112.96 255.279 L2108.88 255.279 Q2106.59 255.279 2105.69 256.205 Q2104.81 257.131 2104.81 259.538 L2104.81 261.83 L2111.82 261.83 L2111.82 265.14 L2104.81 265.14 L2104.81 287.756 L2100.53 287.756 L2100.53 265.14 L2096.45 265.14 L2096.45 261.83 L2100.53 261.83 L2100.53 260.024 Q2100.53 255.696 2102.54 253.728 Q2104.55 251.737 2108.93 251.737 L2112.96 251.737 Z\" fill=\"#000000\" fill-rule=\"evenodd\" fill-opacity=\"1\" /><path clip-path=\"url(#clip760)\" d=\"M2138.7 273.728 L2138.7 275.811 L2119.11 275.811 Q2119.39 280.209 2121.75 282.524 Q2124.14 284.816 2128.37 284.816 Q2130.83 284.816 2133.12 284.214 Q2135.43 283.612 2137.7 282.409 L2137.7 286.436 Q2135.41 287.408 2133 287.918 Q2130.59 288.427 2128.12 288.427 Q2121.91 288.427 2118.28 284.816 Q2114.67 281.205 2114.67 275.047 Q2114.67 268.682 2118.09 264.955 Q2121.54 261.205 2127.38 261.205 Q2132.61 261.205 2135.64 264.585 Q2138.7 267.941 2138.7 273.728 M2134.44 272.478 Q2134.39 268.983 2132.47 266.899 Q2130.57 264.816 2127.42 264.816 Q2123.86 264.816 2121.71 266.83 Q2119.58 268.844 2119.25 272.501 L2134.44 272.478 Z\" fill=\"#000000\" fill-rule=\"evenodd\" fill-opacity=\"1\" /><path clip-path=\"url(#clip760)\" d=\"M2160.71 265.811 Q2159.99 265.395 2159.14 265.21 Q2158.3 265.001 2157.28 265.001 Q2153.67 265.001 2151.73 267.362 Q2149.81 269.7 2149.81 274.098 L2149.81 287.756 L2145.53 287.756 L2145.53 261.83 L2149.81 261.83 L2149.81 265.858 Q2151.15 263.497 2153.3 262.362 Q2155.46 261.205 2158.53 261.205 Q2158.97 261.205 2159.51 261.274 Q2160.04 261.321 2160.69 261.436 L2160.71 265.811 Z\" fill=\"#000000\" fill-rule=\"evenodd\" fill-opacity=\"1\" /><path clip-path=\"url(#clip760)\" d=\"M2179.37 265.811 Q2178.65 265.395 2177.79 265.21 Q2176.96 265.001 2175.94 265.001 Q2172.33 265.001 2170.39 267.362 Q2168.46 269.7 2168.46 274.098 L2168.46 287.756 L2164.18 287.756 L2164.18 261.83 L2168.46 261.83 L2168.46 265.858 Q2169.81 263.497 2171.96 262.362 Q2174.11 261.205 2177.19 261.205 Q2177.63 261.205 2178.16 261.274 Q2178.7 261.321 2179.34 261.436 L2179.37 265.811 Z\" fill=\"#000000\" fill-rule=\"evenodd\" fill-opacity=\"1\" /><path clip-path=\"url(#clip760)\" d=\"M2204.97 273.728 L2204.97 275.811 L2185.39 275.811 Q2185.66 280.209 2188.02 282.524 Q2190.41 284.816 2194.65 284.816 Q2197.1 284.816 2199.39 284.214 Q2201.71 283.612 2203.97 282.409 L2203.97 286.436 Q2201.68 287.408 2199.27 287.918 Q2196.87 288.427 2194.39 288.427 Q2188.19 288.427 2184.55 284.816 Q2180.94 281.205 2180.94 275.047 Q2180.94 268.682 2184.37 264.955 Q2187.82 261.205 2193.65 261.205 Q2198.88 261.205 2201.91 264.585 Q2204.97 267.941 2204.97 273.728 M2200.71 272.478 Q2200.66 268.983 2198.74 266.899 Q2196.84 264.816 2193.7 264.816 Q2190.13 264.816 2187.98 266.83 Q2185.85 268.844 2185.52 272.501 L2200.71 272.478 Z\" fill=\"#000000\" fill-rule=\"evenodd\" fill-opacity=\"1\" /><path clip-path=\"url(#clip760)\" d=\"M2229.02 265.765 L2229.02 251.737 L2233.28 251.737 L2233.28 287.756 L2229.02 287.756 L2229.02 283.867 Q2227.68 286.182 2225.62 287.316 Q2223.58 288.427 2220.71 288.427 Q2216.01 288.427 2213.05 284.677 Q2210.11 280.927 2210.11 274.816 Q2210.11 268.705 2213.05 264.955 Q2216.01 261.205 2220.71 261.205 Q2223.58 261.205 2225.62 262.339 Q2227.68 263.45 2229.02 265.765 M2214.51 274.816 Q2214.51 279.515 2216.43 282.2 Q2218.37 284.862 2221.75 284.862 Q2225.13 284.862 2227.08 282.2 Q2229.02 279.515 2229.02 274.816 Q2229.02 270.117 2227.08 267.455 Q2225.13 264.77 2221.75 264.77 Q2218.37 264.77 2216.43 267.455 Q2214.51 270.117 2214.51 274.816 Z\" fill=\"#000000\" fill-rule=\"evenodd\" fill-opacity=\"1\" /></svg>\n"
     },
     "execution_count": 29,
     "metadata": {},
     "output_type": "execute_result"
    }
   ],
   "source": [
    "plt_r = plot!(sol_c[1, :], label=\"$(xs_r[1]) inferred\")\n",
    "plt_r"
   ]
  },
  {
   "cell_type": "code",
   "execution_count": null,
   "metadata": {},
   "outputs": [],
   "source": []
  }
 ],
 "metadata": {
  "kernelspec": {
   "display_name": "Julia 1.8.2",
   "language": "julia",
   "name": "julia-1.8"
  },
  "language_info": {
   "file_extension": ".jl",
   "mimetype": "application/julia",
   "name": "julia",
   "version": "1.8.2"
  }
 },
 "nbformat": 4,
 "nbformat_minor": 5
}
