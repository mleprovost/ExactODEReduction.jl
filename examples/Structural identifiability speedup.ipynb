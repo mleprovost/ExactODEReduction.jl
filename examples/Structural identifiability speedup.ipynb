{
 "cells": [
  {
   "cell_type": "code",
   "execution_count": 2,
   "metadata": {},
   "outputs": [
    {
     "name": "stderr",
     "output_type": "stream",
     "text": [
      "WARNING: replacing module ExactODEReduction.\n"
     ]
    },
    {
     "data": {
      "text/plain": [
       "Main.ExactODEReduction"
      ]
     },
     "metadata": {},
     "output_type": "display_data"
    }
   ],
   "source": [
    "using Nemo\n",
    "using StructuralIdentifiability\n",
    "# using ExactODEReduction\n",
    "include(\"../src/ExactODEReduction.jl\")"
   ]
  },
  {
   "cell_type": "code",
   "execution_count": 3,
   "metadata": {},
   "outputs": [
    {
     "name": "stderr",
     "output_type": "stream",
     "text": [
      "┌ Info: Summary of the model:\n",
      "└ @ StructuralIdentifiability /home/sumiya11/.julia/packages/StructuralIdentifiability/egNv7/src/ODE.jl:329\n",
      "┌ Info: State variables: I, R, W, S\n",
      "└ @ StructuralIdentifiability /home/sumiya11/.julia/packages/StructuralIdentifiability/egNv7/src/ODE.jl:330\n",
      "┌ Info: Parameters: bi, gam, mu, bw, k, xi, a\n",
      "└ @ StructuralIdentifiability /home/sumiya11/.julia/packages/StructuralIdentifiability/egNv7/src/ODE.jl:331\n",
      "┌ Info: Inputs: \n",
      "└ @ StructuralIdentifiability /home/sumiya11/.julia/packages/StructuralIdentifiability/egNv7/src/ODE.jl:332\n",
      "┌ Info: Outputs: y\n",
      "└ @ StructuralIdentifiability /home/sumiya11/.julia/packages/StructuralIdentifiability/egNv7/src/ODE.jl:333\n"
     ]
    },
    {
     "data": {
      "text/plain": [
       "I'(t) = bi*S(t)*I(t) - gam*I(t) + S(t)*bw*W(t) - mu*I(t)\n",
       "R'(t) = gam*I(t) - R(t)*mu - R(t)*a\n",
       "S'(t) = -bi*S(t)*I(t) - S(t)*mu - S(t)*bw*W(t) + R(t)*a + mu\n",
       "W'(t) = xi*I(t) - xi*W(t)\n",
       "y(t) = k*I(t)\n"
      ]
     },
     "metadata": {},
     "output_type": "display_data"
    }
   ],
   "source": [
    "odesi = @ODEmodel(\n",
    "    S'(t) = mu - bi * S(t) * I(t) - bw * S(t) * W(t) - mu * S(t) + a * R(t),\n",
    "    I'(t) = bw * S(t) * W(t) + bi * S(t) * I(t) - (gam + mu) * I(t),\n",
    "    W'(t) = xi * (I(t) - W(t)),\n",
    "    R'(t) = gam * I(t) - (mu + a) * R(t),\n",
    "    y(t) = k * I(t)\n",
    ")"
   ]
  },
  {
   "cell_type": "code",
   "execution_count": 5,
   "metadata": {},
   "outputs": [
    {
     "name": "stderr",
     "output_type": "stream",
     "text": [
      "┌ Info: Assessing local identifiability\n",
      "└ @ StructuralIdentifiability /home/sumiya11/.julia/packages/StructuralIdentifiability/egNv7/src/StructuralIdentifiability.jl:99\n",
      "┌ Info: Local identifiability assessed in 0.0557026 seconds\n",
      "└ @ StructuralIdentifiability /home/sumiya11/.julia/packages/StructuralIdentifiability/egNv7/src/StructuralIdentifiability.jl:102\n"
     ]
    },
    {
     "name": "stderr",
     "output_type": "stream",
     "text": [
      "┌ Info: Assessing global identifiability\n",
      "└ @ StructuralIdentifiability /home/sumiya11/.julia/packages/StructuralIdentifiability/egNv7/src/StructuralIdentifiability.jl:119\n",
      "┌ Info: Computing IO-equations\n",
      "└ @ StructuralIdentifiability /home/sumiya11/.julia/packages/StructuralIdentifiability/egNv7/src/global_identifiability.jl:214\n"
     ]
    },
    {
     "name": "stderr",
     "output_type": "stream",
     "text": [
      "┌ Info: Computed in 3.5312637 seconds\n",
      "│   :ioeq_time = ioeq_time\n",
      "│   ioeq_time = 3.5312637\n",
      "└ @ StructuralIdentifiability /home/sumiya11/.julia/packages/StructuralIdentifiability/egNv7/src/global_identifiability.jl:217\n",
      "┌ Info: Computing Wronskians\n",
      "└ @ StructuralIdentifiability /home/sumiya11/.julia/packages/StructuralIdentifiability/egNv7/src/global_identifiability.jl:220\n"
     ]
    },
    {
     "name": "stderr",
     "output_type": "stream",
     "text": [
      "┌ Info: Computed in 27.6443725 seconds\n",
      "│   :wrnsk_time = wrnsk_time\n",
      "│   wrnsk_time = 27.6443725\n",
      "└ @ StructuralIdentifiability /home/sumiya11/.julia/packages/StructuralIdentifiability/egNv7/src/global_identifiability.jl:222\n",
      "┌ Info: Dimensions of the wronskians [676]\n",
      "└ @ StructuralIdentifiability /home/sumiya11/.julia/packages/StructuralIdentifiability/egNv7/src/global_identifiability.jl:226\n"
     ]
    },
    {
     "name": "stderr",
     "output_type": "stream",
     "text": [
      "┌ Info: Ranks of the Wronskians computed in 0.1032362 seconds\n",
      "│   :rank_time = rank_time\n",
      "│   rank_times = 0.1032362\n",
      "└ @ StructuralIdentifiability /home/sumiya11/.julia/packages/StructuralIdentifiability/egNv7/src/global_identifiability.jl:231\n",
      "┌ Info: Assessing global identifiability using the coefficients of the io-equations\n",
      "└ @ StructuralIdentifiability /home/sumiya11/.julia/packages/StructuralIdentifiability/egNv7/src/global_identifiability.jl:238\n"
     ]
    },
    {
     "name": "stderr",
     "output_type": "stream",
     "text": [
      "┌ Info: Computed in 7.9581298 seconds\n",
      "│   :check_time = check_time\n",
      "│   check_time = 7.9581298\n",
      "└ @ StructuralIdentifiability /home/sumiya11/.julia/packages/StructuralIdentifiability/egNv7/src/global_identifiability.jl:240\n",
      "┌ Info: Global identifiability assessed in 39.3382948 seconds\n",
      "└ @ StructuralIdentifiability /home/sumiya11/.julia/packages/StructuralIdentifiability/egNv7/src/StructuralIdentifiability.jl:121\n"
     ]
    },
    {
     "data": {
      "text/plain": [
       "Dict{Any, Symbol} with 7 entries:\n",
       "  k   => :globally\n",
       "  xi  => :globally\n",
       "  bw  => :globally\n",
       "  a   => :globally\n",
       "  gam => :globally\n",
       "  bi  => :globally\n",
       "  mu  => :globally"
      ]
     },
     "metadata": {},
     "output_type": "display_data"
    }
   ],
   "source": [
    "id = assess_identifiability(odesi)"
   ]
  },
  {
   "cell_type": "code",
   "execution_count": 12,
   "metadata": {},
   "outputs": [
    {
     "name": "stderr",
     "output_type": "stream",
     "text": [
      "\u001b[36m\u001b[1m[ \u001b[22m\u001b[39m\u001b[36m\u001b[1mInfo: \u001b[22m\u001b[39mSummary of the model:\n",
      "\u001b[36m\u001b[1m[ \u001b[22m\u001b[39m\u001b[36m\u001b[1mInfo: \u001b[22m\u001b[39mState variables: x1, x2, x3, x4, x5, x6\n",
      "\u001b[36m\u001b[1m[ \u001b[22m\u001b[39m\u001b[36m\u001b[1mInfo: \u001b[22m\u001b[39mParameters: k1, k2, k3, k4, k5, k6\n"
     ]
    },
    {
     "data": {
      "text/plain": [
       "x1'(t) = -x1(t)*x2(t)*k1(t) + x4(t)*k2(t) + x6(t)*k4(t)\n",
       "x2'(t) = -x1(t)*x2(t)*k1(t) + x4(t)*k2(t) + x4(t)*k3(t)\n",
       "x3'(t) = -x3(t)*x5(t)*k6(t) + x4(t)*k3(t) + x6(t)*k5(t)\n",
       "x4'(t) = x1(t)*x2(t)*k1(t) - x4(t)*k2(t) - x4(t)*k3(t)\n",
       "x5'(t) = -x3(t)*x5(t)*k6(t) + x6(t)*k4(t) + x6(t)*k5(t)\n",
       "x6'(t) = x3(t)*x5(t)*k6(t) - x6(t)*k4(t) - x6(t)*k5(t)\n",
       "k1'(t) = 0\n",
       "k2'(t) = 0\n",
       "k3'(t) = 0\n",
       "k4'(t) = 0\n",
       "k5'(t) = 0\n",
       "k6'(t) = 0\n"
      ]
     },
     "metadata": {},
     "output_type": "display_data"
    }
   ],
   "source": [
    "ode = ExactODEReduction.@ODEsystem(\n",
    "    x1'(t) = -k1 * x1(t) * x2(t) + k2 * x4(t) + k4 * x6(t),\n",
    "    x2'(t) = -k1 * x1(t) * x2(t) + k2 * x4(t) + k3 * x4(t),\n",
    "    x3'(t) = k3 * x4(t) + k5 * x6(t) - k6 * x3(t) * x5(t),\n",
    "    x4'(t) = k1 * x1(t) * x2(t) - k2 * x4(t) - k3 * x4(t),\n",
    "    x5'(t) = k4 * x6(t) + k5 * x6(t) - k6 * x3(t) * x5(t),\n",
    "    x6'(t) = -k4 * x6(t) - k5 * x6(t) + k6 * x3(t) * x5(t),\n",
    ")"
   ]
  },
  {
   "cell_type": "code",
   "execution_count": 13,
   "metadata": {},
   "outputs": [
    {
     "name": "stderr",
     "output_type": "stream",
     "text": [
      "\u001b[36m\u001b[1m[ \u001b[22m\u001b[39m\u001b[36m\u001b[1mInfo: \u001b[22m\u001b[39mConstructed a set of 12 matrices 12×12 from the system Jacobian\n",
      "\u001b[36m\u001b[1m[ \u001b[22m\u001b[39m\u001b[36m\u001b[1mInfo: \u001b[22m\u001b[39mCalled invariant_subspace_global on 12 matrices of shape (12, 12)\n",
      "\u001b[36m\u001b[1m[ \u001b[22m\u001b[39m\u001b[36m\u001b[1mInfo: \u001b[22m\u001b[39mgenerating a basis for Algebra using find_basis_1_β\n",
      "\u001b[36m\u001b[1m[ \u001b[22m\u001b[39m\u001b[36m\u001b[1mInfo: \u001b[22m\u001b[39mnew reduction modulo, 2147483647\n"
     ]
    },
    {
     "name": "stderr",
     "output_type": "stream",
     "text": [
      "\u001b[36m\u001b[1m[ \u001b[22m\u001b[39m\u001b[36m\u001b[1mInfo: \u001b[22m\u001b[39mgenerated a basis for Algebra of dimension 36\n",
      "\u001b[36m\u001b[1m[ \u001b[22m\u001b[39m\u001b[36m\u001b[1mInfo: \u001b[22m\u001b[39mComputing the radical..\n",
      "\u001b[36m\u001b[1m[ \u001b[22m\u001b[39m\u001b[36m\u001b[1mInfo: \u001b[22m\u001b[39mcomputed the radical of dimension 27\n",
      "\u001b[36m\u001b[1m[ \u001b[22m\u001b[39m\u001b[36m\u001b[1mInfo: \u001b[22m\u001b[39mFound radical of size 27\n",
      "\u001b[36m\u001b[1m[ \u001b[22m\u001b[39m\u001b[36m\u001b[1mInfo: \u001b[22m\u001b[39mRadical is nontrivial, computing the common kernel of radical\n",
      "\u001b[36m\u001b[1m[ \u001b[22m\u001b[39m\u001b[36m\u001b[1mInfo: \u001b[22m\u001b[39m[9]-dimensional subspaces found\n"
     ]
    },
    {
     "name": "stderr",
     "output_type": "stream",
     "text": [
      "\u001b[36m\u001b[1m[ \u001b[22m\u001b[39m\u001b[36m\u001b[1mInfo: \u001b[22m\u001b[39mfound [9]-dim subspaces in ambient 12-dim\n",
      "\u001b[36m\u001b[1m[ \u001b[22m\u001b[39m\u001b[36m\u001b[1mInfo: \u001b[22m\u001b[39mCalling myself recursively in restricted subspace\n",
      "\u001b[36m\u001b[1m[ \u001b[22m\u001b[39m\u001b[36m\u001b[1mInfo: \u001b[22m\u001b[39mCalled invariant_subspace_global on 12 matrices of shape (9, 9)\n",
      "\u001b[36m\u001b[1m[ \u001b[22m\u001b[39m\u001b[36m\u001b[1mInfo: \u001b[22m\u001b[39mfound [1, 2, 3, 4, 5, 6, 7, 8]-dim subspaces in ambient 9-dim\n"
     ]
    },
    {
     "name": "stderr",
     "output_type": "stream",
     "text": [
      "\u001b[36m\u001b[1m[ \u001b[22m\u001b[39m\u001b[36m\u001b[1mInfo: \u001b[22m\u001b[39mCalling myself recursively in complemented subspace\n",
      "\u001b[36m\u001b[1m[ \u001b[22m\u001b[39m\u001b[36m\u001b[1mInfo: \u001b[22m\u001b[39mCalled invariant_subspace_global on 12 matrices of shape (3, 3)\n",
      "\u001b[36m\u001b[1m[ \u001b[22m\u001b[39m\u001b[36m\u001b[1mInfo: \u001b[22m\u001b[39mgenerating a basis for Algebra using find_basis_1_β\n",
      "\u001b[36m\u001b[1m[ \u001b[22m\u001b[39m\u001b[36m\u001b[1mInfo: \u001b[22m\u001b[39mnew reduction modulo, 2147483647\n",
      "\u001b[36m\u001b[1m[ \u001b[22m\u001b[39m\u001b[36m\u001b[1mInfo: \u001b[22m\u001b[39mgenerated a basis for Algebra of dimension 9\n"
     ]
    },
    {
     "data": {
      "text/plain": [
       "9-element Vector{Dict{Symbol, Any}}:\n",
       " Dict(:new_system => y1'(t) = 0\n",
       ", :new_vars => fmpq_mpoly[x1 + x3 + x4 + x6])\n",
       " Dict(:new_system => y1'(t) = 0\n",
       "y2'(t) = 0\n",
       ", :new_vars => fmpq_mpoly[x1 + x3 + x4 + x6, x2 + x4])\n",
       " Dict(:new_system => y1'(t) = 0\n",
       "y2'(t) = 0\n",
       "y3'(t) = 0\n",
       ", :new_vars => fmpq_mpoly[x1 + x3 + x4 + x6, x2 + x4, x5 + x6])\n",
       " Dict(:new_system => y1'(t) = 0\n",
       "y2'(t) = 0\n",
       "y3'(t) = 0\n",
       "y4'(t) = 0\n",
       ", :new_vars => fmpq_mpoly[x1 + x3 + x4 + x6, x2 + x4, x5 + x6, k1])\n",
       " Dict(:new_system => y1'(t) = 0\n",
       "y2'(t) = 0\n",
       "y3'(t) = 0\n",
       "y4'(t) = 0\n",
       "y5'(t) = 0\n",
       ", :new_vars => fmpq_mpoly[x1 + x3 + x4 + x6, x2 + x4, x5 + x6, k1, k2])\n",
       " Dict(:new_system => y1'(t) = 0\n",
       "y2'(t) = 0\n",
       "y3'(t) = 0\n",
       "y4'(t) = 0\n",
       "y5'(t) = 0\n",
       "y6'(t) = 0\n",
       ", :new_vars => fmpq_mpoly[x1 + x3 + x4 + x6, x2 + x4, x5 + x6, k1, k2, k3])\n",
       " Dict(:new_system => y1'(t) = 0\n",
       "y2'(t) = 0\n",
       "y3'(t) = 0\n",
       "y4'(t) = 0\n",
       "y5'(t) = 0\n",
       "y6'(t) = 0\n",
       "y7'(t) = 0\n",
       ", :new_vars => fmpq_mpoly[x1 + x3 + x4 + x6, x2 + x4, x5 + x6, k1, k2, k3, k4])\n",
       " Dict(:new_system => y1'(t) = 0\n",
       "y2'(t) = 0\n",
       "y3'(t) = 0\n",
       "y4'(t) = 0\n",
       "y5'(t) = 0\n",
       "y6'(t) = 0\n",
       "y7'(t) = 0\n",
       "y8'(t) = 0\n",
       ", :new_vars => fmpq_mpoly[x1 + x3 + x4 + x6, x2 + x4, x5 + x6, k1, k2, k3, k4, k5])\n",
       " Dict(:new_system => y1'(t) = 0\n",
       "y2'(t) = 0\n",
       "y3'(t) = 0\n",
       "y4'(t) = 0\n",
       "y5'(t) = 0\n",
       "y6'(t) = 0\n",
       "y7'(t) = 0\n",
       "y8'(t) = 0\n",
       "y9'(t) = 0\n",
       ", :new_vars => fmpq_mpoly[x1 + x3 + x4 + x6, x2 + x4, x5 + x6, k1, k2, k3, k4, k5, k6])"
      ]
     },
     "metadata": {},
     "output_type": "display_data"
    }
   ],
   "source": [
    "reductions = ExactODEReduction.find_reductions(ode)"
   ]
  },
  {
   "cell_type": "code",
   "execution_count": 19,
   "metadata": {},
   "outputs": [
    {
     "data": {
      "text/plain": [
       "y1'(t) = 0\n",
       "y2'(t) = 0\n",
       "y3'(t) = 0\n",
       "y4'(t) = 0\n",
       "y5'(t) = 0\n",
       "y6'(t) = 0\n",
       "y7'(t) = 0\n",
       "y8'(t) = 0\n",
       "y9'(t) = 0\n"
      ]
     },
     "metadata": {},
     "output_type": "display_data"
    }
   ],
   "source": [
    "reductions[end][:new_system]"
   ]
  },
  {
   "cell_type": "code",
   "execution_count": 20,
   "metadata": {},
   "outputs": [
    {
     "data": {
      "text/plain": [
       "9-element Vector{fmpq_mpoly}:\n",
       " x1 + x3 + x4 + x6\n",
       " x2 + x4\n",
       " x5 + x6\n",
       " k1\n",
       " k2\n",
       " k3\n",
       " k4\n",
       " k5\n",
       " k6"
      ]
     },
     "metadata": {},
     "output_type": "display_data"
    }
   ],
   "source": [
    "reductions[end][:new_vars]"
   ]
  },
  {
   "cell_type": "code",
   "execution_count": 21,
   "metadata": {},
   "outputs": [
    {
     "name": "stdout",
     "output_type": "stream",
     "text": [
      "fmpq_mpoly[x1 + x3 + x4 + x6]\n",
      "fmpq_mpoly[x1 + x3 + x4 + x6, x2 + x4]\n",
      "fmpq_mpoly[x1 + x3 + x4 + x6, x2 + x4, x5 + x6]\n",
      "fmpq_mpoly[x1 + x3 + x4 + x6, x2 + x4, x5 + x6, k1]\n",
      "fmpq_mpoly[x1 + x3 + x4 + x6, x2 + x4, x5 + x6, k1, k2]\n",
      "fmpq_mpoly[x1 + x3 + x4 + x6, x2 + x4, x5 + x6, k1, k2, k3]\n",
      "fmpq_mpoly[x1 + x3 + x4 + x6, x2 + x4, x5 + x6, k1, k2, k3, k4]\n",
      "fmpq_mpoly[x1 + x3 + x4 + x6, x2 + x4, x5 + x6, k1, k2, k3, k4, k5]\n",
      "fmpq_mpoly[x1 + x3 + x4 + x6, x2 + x4, x5 + x6, k1, k2, k3, k4, k5, k6]\n"
     ]
    }
   ],
   "source": [
    "for red in reductions\n",
    "    println(red[:new_vars])\n",
    "end"
   ]
  },
  {
   "cell_type": "code",
   "execution_count": null,
   "metadata": {},
   "outputs": [],
   "source": []
  },
  {
   "cell_type": "code",
   "execution_count": null,
   "metadata": {},
   "outputs": [],
   "source": []
  },
  {
   "cell_type": "code",
   "execution_count": 17,
   "metadata": {},
   "outputs": [
    {
     "name": "stderr",
     "output_type": "stream",
     "text": [
      "\u001b[36m\u001b[1m[ \u001b[22m\u001b[39m\u001b[36m\u001b[1mInfo: \u001b[22m\u001b[39mSummary of the model:\n",
      "\u001b[36m\u001b[1m[ \u001b[22m\u001b[39m\u001b[36m\u001b[1mInfo: \u001b[22m\u001b[39mState variables: x1, x2, x3, x4, x5, x6\n",
      "\u001b[36m\u001b[1m[ \u001b[22m\u001b[39m\u001b[36m\u001b[1mInfo: \u001b[22m\u001b[39mParameters: k1, k2, k3, k4, k5, k6\n"
     ]
    },
    {
     "data": {
      "text/plain": [
       "x1'(t) = -x1(t)*x2(t)*k1(t) + x4(t)*k2(t) + x6(t)*k4(t)\n",
       "x2'(t) = -x1(t)*x2(t)*k1(t) + x4(t)*k2(t) + x4(t)*k3(t)\n",
       "x3'(t) = -x3(t)*x5(t)*k6(t) + x4(t)*k3(t) + x6(t)*k5(t)\n",
       "x4'(t) = x1(t)*x2(t)*k1(t) - x4(t)*k2(t) - x4(t)*k3(t)\n",
       "x5'(t) = -x3(t)*x5(t)*k6(t) + x6(t)*k4(t) + x6(t)*k5(t)\n",
       "x6'(t) = x3(t)*x5(t)*k6(t) - x6(t)*k4(t) - x6(t)*k5(t)\n",
       "k1'(t) = 0\n",
       "k2'(t) = 0\n",
       "k3'(t) = 0\n",
       "k4'(t) = 0\n",
       "k5'(t) = 0\n",
       "k6'(t) = 0\n"
      ]
     },
     "metadata": {},
     "output_type": "display_data"
    }
   ],
   "source": [
    "ode = ExactODEReduction.@ODEsystem(\n",
    "    x1'(t) = -k1 * x1(t) * x2(t) + k2 * x4(t) + k4 * x6(t),\n",
    "    x2'(t) = -k1 * x1(t) * x2(t) + k2 * x4(t) + k3 * x4(t),\n",
    "    x3'(t) = k3 * x4(t) + k5 * x6(t) - k6 * x3(t) * x5(t),\n",
    "    x4'(t) = k1 * x1(t) * x2(t) - k2 * x4(t) - k3 * x4(t),\n",
    "    x5'(t) = k4 * x6(t) + k5 * x6(t) - k6 * x3(t) * x5(t),\n",
    "    x6'(t) = -k4 * x6(t) - k5 * x6(t) + k6 * x3(t) * x5(t)\n",
    ")"
   ]
  },
  {
   "cell_type": "code",
   "execution_count": 18,
   "metadata": {},
   "outputs": [
    {
     "name": "stderr",
     "output_type": "stream",
     "text": [
      "\u001b[36m\u001b[1m[ \u001b[22m\u001b[39m\u001b[36m\u001b[1mInfo: \u001b[22m\u001b[39mConstructed a set of 12 matrices 12×12 from the system Jacobian\n",
      "\u001b[36m\u001b[1m[ \u001b[22m\u001b[39m\u001b[36m\u001b[1mInfo: \u001b[22m\u001b[39mCalled invariant_subspace_global on 12 matrices of shape (12, 12)\n"
     ]
    },
    {
     "name": "stderr",
     "output_type": "stream",
     "text": [
      "\u001b[36m\u001b[1m[ \u001b[22m\u001b[39m\u001b[36m\u001b[1mInfo: \u001b[22m\u001b[39mgenerating a basis for Algebra using find_basis_1_β\n",
      "\u001b[36m\u001b[1m[ \u001b[22m\u001b[39m\u001b[36m\u001b[1mInfo: \u001b[22m\u001b[39mnew reduction modulo, 2147483647\n"
     ]
    },
    {
     "name": "stderr",
     "output_type": "stream",
     "text": [
      "\u001b[36m\u001b[1m[ \u001b[22m\u001b[39m\u001b[36m\u001b[1mInfo: \u001b[22m\u001b[39mgenerated a basis for Algebra of dimension 36\n",
      "\u001b[36m\u001b[1m[ \u001b[22m\u001b[39m\u001b[36m\u001b[1mInfo: \u001b[22m\u001b[39mComputing the radical..\n",
      "\u001b[36m\u001b[1m[ \u001b[22m\u001b[39m\u001b[36m\u001b[1mInfo: \u001b[22m\u001b[39mcomputed the radical of dimension 27\n",
      "\u001b[36m\u001b[1m[ \u001b[22m\u001b[39m\u001b[36m\u001b[1mInfo: \u001b[22m\u001b[39mFound radical of size 27\n",
      "\u001b[36m\u001b[1m[ \u001b[22m\u001b[39m\u001b[36m\u001b[1mInfo: \u001b[22m\u001b[39mRadical is nontrivial, computing the common kernel of radical\n",
      "\u001b[36m\u001b[1m[ \u001b[22m\u001b[39m\u001b[36m\u001b[1mInfo: \u001b[22m\u001b[39m[9]-dimensional subspaces found\n"
     ]
    },
    {
     "name": "stderr",
     "output_type": "stream",
     "text": [
      "\u001b[36m\u001b[1m[ \u001b[22m\u001b[39m\u001b[36m\u001b[1mInfo: \u001b[22m\u001b[39mfound [9]-dim subspaces in ambient 12-dim\n",
      "\u001b[36m\u001b[1m[ \u001b[22m\u001b[39m\u001b[36m\u001b[1mInfo: \u001b[22m\u001b[39mCalling myself recursively in restricted subspace\n"
     ]
    },
    {
     "name": "stderr",
     "output_type": "stream",
     "text": [
      "\u001b[36m\u001b[1m[ \u001b[22m\u001b[39m\u001b[36m\u001b[1mInfo: \u001b[22m\u001b[39mCalled invariant_subspace_global on 12 matrices of shape (9, 9)\n",
      "\u001b[36m\u001b[1m[ \u001b[22m\u001b[39m\u001b[36m\u001b[1mInfo: \u001b[22m\u001b[39mfound [1, 2, 3, 4, 5, 6, 7, 8]-dim subspaces in ambient 9-dim\n"
     ]
    },
    {
     "name": "stderr",
     "output_type": "stream",
     "text": [
      "\u001b[36m\u001b[1m[ \u001b[22m\u001b[39m\u001b[36m\u001b[1mInfo: \u001b[22m\u001b[39mCalling myself recursively in complemented subspace\n",
      "\u001b[36m\u001b[1m[ \u001b[22m\u001b[39m\u001b[36m\u001b[1mInfo: \u001b[22m\u001b[39mCalled invariant_subspace_global on 12 matrices of shape (3, 3)\n",
      "\u001b[36m\u001b[1m[ \u001b[22m\u001b[39m\u001b[36m\u001b[1mInfo: \u001b[22m\u001b[39mgenerating a basis for Algebra using find_basis_1_β\n",
      "\u001b[36m\u001b[1m[ \u001b[22m\u001b[39m\u001b[36m\u001b[1mInfo: \u001b[22m\u001b[39mnew reduction modulo, 2147483647\n",
      "\u001b[36m\u001b[1m[ \u001b[22m\u001b[39m\u001b[36m\u001b[1mInfo: \u001b[22m\u001b[39mgenerated a basis for Algebra of dimension 9\n"
     ]
    },
    {
     "data": {
      "text/plain": [
       "9-element Vector{Dict{Symbol, Any}}:\n",
       " Dict(:new_system => y1'(t) = 0\n",
       ", :new_vars => fmpq_mpoly[x1 + x3 + x4 + x6])\n",
       " Dict(:new_system => y1'(t) = 0\n",
       "y2'(t) = 0\n",
       ", :new_vars => fmpq_mpoly[x1 + x3 + x4 + x6, x2 + x4])\n",
       " Dict(:new_system => y1'(t) = 0\n",
       "y2'(t) = 0\n",
       "y3'(t) = 0\n",
       ", :new_vars => fmpq_mpoly[x1 + x3 + x4 + x6, x2 + x4, x5 + x6])\n",
       " Dict(:new_system => y1'(t) = 0\n",
       "y2'(t) = 0\n",
       "y3'(t) = 0\n",
       "y4'(t) = 0\n",
       ", :new_vars => fmpq_mpoly[x1 + x3 + x4 + x6, x2 + x4, x5 + x6, k1])\n",
       " Dict(:new_system => y1'(t) = 0\n",
       "y2'(t) = 0\n",
       "y3'(t) = 0\n",
       "y4'(t) = 0\n",
       "y5'(t) = 0\n",
       ", :new_vars => fmpq_mpoly[x1 + x3 + x4 + x6, x2 + x4, x5 + x6, k1, k2])\n",
       " Dict(:new_system => y1'(t) = 0\n",
       "y2'(t) = 0\n",
       "y3'(t) = 0\n",
       "y4'(t) = 0\n",
       "y5'(t) = 0\n",
       "y6'(t) = 0\n",
       ", :new_vars => fmpq_mpoly[x1 + x3 + x4 + x6, x2 + x4, x5 + x6, k1, k2, k3])\n",
       " Dict(:new_system => y1'(t) = 0\n",
       "y2'(t) = 0\n",
       "y3'(t) = 0\n",
       "y4'(t) = 0\n",
       "y5'(t) = 0\n",
       "y6'(t) = 0\n",
       "y7'(t) = 0\n",
       ", :new_vars => fmpq_mpoly[x1 + x3 + x4 + x6, x2 + x4, x5 + x6, k1, k2, k3, k4])\n",
       " Dict(:new_system => y1'(t) = 0\n",
       "y2'(t) = 0\n",
       "y3'(t) = 0\n",
       "y4'(t) = 0\n",
       "y5'(t) = 0\n",
       "y6'(t) = 0\n",
       "y7'(t) = 0\n",
       "y8'(t) = 0\n",
       ", :new_vars => fmpq_mpoly[x1 + x3 + x4 + x6, x2 + x4, x5 + x6, k1, k2, k3, k4, k5])\n",
       " Dict(:new_system => y1'(t) = 0\n",
       "y2'(t) = 0\n",
       "y3'(t) = 0\n",
       "y4'(t) = 0\n",
       "y5'(t) = 0\n",
       "y6'(t) = 0\n",
       "y7'(t) = 0\n",
       "y8'(t) = 0\n",
       "y9'(t) = 0\n",
       ", :new_vars => fmpq_mpoly[x1 + x3 + x4 + x6, x2 + x4, x5 + x6, k1, k2, k3, k4, k5, k6])"
      ]
     },
     "metadata": {},
     "output_type": "display_data"
    }
   ],
   "source": [
    "reductions = ExactODEReduction.find_reductions(ode)"
   ]
  },
  {
   "cell_type": "code",
   "execution_count": 17,
   "metadata": {},
   "outputs": [
    {
     "data": {
      "text/plain": [
       "Dict{Symbol, Any} with 2 entries:\n",
       "  :new_system => y1'(t) = 0…\n",
       "  :new_vars   => fmpq_mpoly[x1 + x3 + x4 + x6, x2 + x4, x5 + x6, k1, k2, k3, k4…"
      ]
     },
     "metadata": {},
     "output_type": "display_data"
    }
   ],
   "source": [
    "biggest = reductions[end]"
   ]
  },
  {
   "cell_type": "code",
   "execution_count": 13,
   "metadata": {},
   "outputs": [
    {
     "data": {
      "text/plain": [
       "9-element Vector{fmpq_mpoly}:\n",
       " x1 + x3 + x4 + x6\n",
       " x2 + x4\n",
       " x5 + x6\n",
       " k1\n",
       " k2\n",
       " k3\n",
       " k4\n",
       " k5\n",
       " k6"
      ]
     },
     "metadata": {},
     "output_type": "display_data"
    }
   ],
   "source": [
    "biggest[:new_vars]"
   ]
  },
  {
   "cell_type": "code",
   "execution_count": null,
   "metadata": {},
   "outputs": [],
   "source": []
  }
 ],
 "metadata": {
  "kernelspec": {
   "display_name": "Julia 1.8.2",
   "language": "julia",
   "name": "julia-1.8"
  },
  "language_info": {
   "file_extension": ".jl",
   "mimetype": "application/julia",
   "name": "julia",
   "version": "1.8.2"
  },
  "orig_nbformat": 4
 },
 "nbformat": 4,
 "nbformat_minor": 2
}
